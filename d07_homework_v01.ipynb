{
 "cells": [
  {
   "cell_type": "markdown",
   "metadata": {
    "colab_type": "text",
    "id": "P6xk2_jLsvFF"
   },
   "source": [
    "# [作業目標]\n",
    "\n",
    "1. 請比較對一個 100 x 100 * 100 的陣列，使用不同方法對每一個元素 +1 的時間比較。\n",
    "\n",
    "2. 如何從一個陣列中，找出出現頻率最高的數值與位置？\n",
    "\n",
    "3. 如何利用 list(...) 實現 a.tolist() 的效果？試著用程式實作。\n"
   ]
  },
  {
   "cell_type": "markdown",
   "metadata": {
    "colab_type": "text",
    "id": "uXGll28asvFS"
   },
   "source": [
    "# 作業 "
   ]
  },
  {
   "cell_type": "markdown",
   "metadata": {},
   "source": [
    "### 1. 請比較對一個 1000 x 100 x 100 的陣列，使用不同方法對每一個元素 +1 的時間比較。\n",
    "\n",
    "\n"
   ]
  },
  {
   "cell_type": "code",
   "execution_count": 1,
   "metadata": {},
   "outputs": [],
   "source": [
    "import numpy as np\n",
    "\n",
    "Z = np.random.randint(0, 10, 1000000).reshape(100, 100, 100)"
   ]
  },
  {
   "cell_type": "code",
   "execution_count": 2,
   "metadata": {},
   "outputs": [
    {
     "name": "stdout",
     "output_type": "stream",
     "text": [
      "34.3 ns ± 10.5 ns per loop (mean ± std. dev. of 7 runs, 10 loops each)\n"
     ]
    }
   ],
   "source": [
    "%timeit -n 10 a = 2\n",
    "for a in Z:\n",
    "    for row in a:\n",
    "        for b in row:\n",
    "            b=b+1"
   ]
  },
  {
   "cell_type": "code",
   "execution_count": 3,
   "metadata": {},
   "outputs": [
    {
     "name": "stdout",
     "output_type": "stream",
     "text": [
      "34.3 ns ± 10.5 ns per loop (mean ± std. dev. of 7 runs, 10 loops each)\n"
     ]
    }
   ],
   "source": [
    "%timeit -n 10 a = 2\n",
    "for c in Z.flat:   # 默認参数為\"C\"，即按照行進行重组。返回一个迭代器，可以遍歷数组中的每一个元素\n",
    "    c=c+1"
   ]
  },
  {
   "cell_type": "code",
   "execution_count": 4,
   "metadata": {},
   "outputs": [
    {
     "name": "stdout",
     "output_type": "stream",
     "text": [
      "44.3 ns ± 15 ns per loop (mean ± std. dev. of 7 runs, 10 loops each)\n"
     ]
    }
   ],
   "source": [
    "%timeit -n 10 a = 2\n",
    "for d in np.nditer(Z):   #按照行進行重组\n",
    "    d=d+1"
   ]
  },
  {
   "cell_type": "markdown",
   "metadata": {},
   "source": [
    "### 2. 如何從一個陣列中，找出出現頻率最高的數值與位置？\n"
   ]
  },
  {
   "cell_type": "code",
   "execution_count": 5,
   "metadata": {},
   "outputs": [
    {
     "name": "stdout",
     "output_type": "stream",
     "text": [
      "Array Z =\n",
      "[8 5 3 3 6 1 3 0 1 2 8 4 7 6 4 5 7 5 7 6 3 1 8 2 5 9 5 0 4 4 7 6 5 1 1 4 9\n",
      " 0 6 4 4 1 5 0 4 9 6 3 1 7]\n"
     ]
    }
   ],
   "source": [
    "Z=np.random.randint(0,10,50)\n",
    "print('Array Z =')\n",
    "print(Z)\n"
   ]
  },
  {
   "cell_type": "code",
   "execution_count": 11,
   "metadata": {
    "colab": {},
    "colab_type": "code",
    "id": "e1gVI0tvsvFY"
   },
   "outputs": [
    {
     "name": "stdout",
     "output_type": "stream",
     "text": [
      "The most frequent value:  4\n",
      "location:  [[11 14 28 29 35 39 40 44]]\n"
     ]
    }
   ],
   "source": [
    "loc = np.bincount(Z.ravel()).argmax()\n",
    "ans = np.array(np.where(Z == loc))\n",
    "print(\"The most frequent value: \", loc)\n",
    "print(\"location: \", ans)"
   ]
  },
  {
   "cell_type": "markdown",
   "metadata": {},
   "source": [
    "### 3. 如何利用 list(...) 實現 a.tolist() 的效果？試著用程式實作。\n"
   ]
  },
  {
   "cell_type": "code",
   "execution_count": 24,
   "metadata": {},
   "outputs": [
    {
     "name": "stdout",
     "output_type": "stream",
     "text": [
      "array a= \n",
      "[9 7 9 6 9 0]\n",
      "\n",
      "a.tolist()= [9, 7, 9, 6, 9, 0] \n",
      "\n",
      "list(a)= [9, 7, 9, 6, 9, 0] \n",
      "\n",
      "b array = \n",
      "[[2 8 7 9]\n",
      " [6 1 0 7]\n",
      " [2 4 5 7]]\n",
      "\n",
      "b.tolist()= [[2, 8, 7, 9], [6, 1, 0, 7], [2, 4, 5, 7]]\n",
      "\n",
      "list(b)= [array([2, 8, 7, 9]), array([6, 1, 0, 7]), array([2, 4, 5, 7])]\n",
      "\n",
      "c array = \n",
      "[[[2 0]\n",
      "  [5 3]\n",
      "  [8 4]]\n",
      "\n",
      " [[0 4]\n",
      "  [6 1]\n",
      "  [2 1]]]\n",
      "\n",
      "c.tolist()= [[[2, 0], [5, 3], [8, 4]], [[0, 4], [6, 1], [2, 1]]]\n",
      "\n",
      "list(c)= [array([[2, 0],\n",
      "       [5, 3],\n",
      "       [8, 4]]), array([[0, 4],\n",
      "       [6, 1],\n",
      "       [2, 1]])]\n",
      "\n"
     ]
    }
   ],
   "source": [
    "a = np.random.randint(10, size=6) \n",
    "print('array a= ')\n",
    "print(a)\n",
    "print()\n",
    "\n",
    "print('a.tolist()=',a.tolist(), '\\n')\n",
    "print('list(a)=',list(a), '\\n')\n",
    "\n",
    "\n",
    "b = np.random.randint(10, size=(3,4)) \n",
    "print('b array = ')\n",
    "print(b)\n",
    "print()\n",
    "\n",
    "print('b.tolist()=', b.tolist())\n",
    "print()\n",
    "print('list(b)=',list(b))\n",
    "print()\n",
    "\n",
    "\n",
    "\n",
    "c = np.random.randint(10, size=(2,3,2)) \n",
    "print('c array = ')\n",
    "print(c)\n",
    "print()\n",
    "\n",
    "print('c.tolist()=',c.tolist())\n",
    "print()\n",
    "print('list(c)=',list(c))\n",
    "print()\n"
   ]
  },
  {
   "cell_type": "code",
   "execution_count": 26,
   "metadata": {},
   "outputs": [
    {
     "name": "stdout",
     "output_type": "stream",
     "text": [
      "[2, 8, 7, 9, 6, 1, 0, 7, 2, 4, 5, 7]\n",
      "[2, 0, 5, 3, 8, 4, 0, 4, 6, 1, 2, 1]\n"
     ]
    }
   ],
   "source": [
    "#利用 list(...) 實現 a.tolist() 的效果\n",
    "print(list(b.flat))\n",
    "print(list(c.flat))"
   ]
  },
  {
   "cell_type": "code",
   "execution_count": null,
   "metadata": {},
   "outputs": [],
   "source": [
    "array1 = np.array([[10, 8], [3, 5]])\n",
    "\n",
    "\n",
    "    運用上列array計算反矩陣，乘上原矩陣，並觀察是否為單位矩陣?\n",
    "    運用上列array計算特徵值、特徵向量?\n",
    "    運用上列array計算SVD?\n"
   ]
  },
  {
   "cell_type": "code",
   "execution_count": 32,
   "metadata": {},
   "outputs": [
    {
     "name": "stdout",
     "output_type": "stream",
     "text": [
      "陣列A的元素如下:\n",
      "[[10  8]\n",
      " [ 3  5]] \n",
      "\n",
      "陣列A的反矩陣的計算結果如下:\n",
      "[[ 0.19230769 -0.30769231]\n",
      " [-0.11538462  0.38461538]] \n",
      "\n",
      "將兩個陣列相乘的結果如下:\n",
      "[[1. 0.]\n",
      " [0. 1.]] \n",
      "\n",
      "計算出的特徵值如下:\n",
      "(array([13.,  2.]), array([[ 0.93632918, -0.70710678],\n",
      "       [ 0.35112344,  0.70710678]])) \n",
      "\n",
      "特徵值為:\n",
      "[13.  2.] \n",
      "\n",
      "特徵向量為:\n",
      "[[ 0.93632918 -0.70710678]\n",
      " [ 0.35112344  0.70710678]] \n",
      "\n",
      "計算出來的SVD值如下:\n",
      " \n",
      "\n",
      "U =  [[-0.91663818 -0.39971796]\n",
      " [-0.39971796  0.91663818]] \n",
      "\n",
      "sigma =  [13.94721714  1.86417116] \n",
      "\n",
      "VT =  [[-0.74319741 -0.6690722 ]\n",
      " [-0.6690722   0.74319741]] \n",
      "\n"
     ]
    }
   ],
   "source": [
    "import numpy as np\n",
    "\n",
    "# 運用上列array計算反矩陣，乘上反矩陣，並觀察矩陣是否為單位矩陣?\n",
    "print('陣列A的元素如下:')\n",
    "A = np.array([[10,8],[3,5]])\n",
    "print(A,'\\n')\n",
    "\n",
    "print('陣列A的反矩陣的計算結果如下:')\n",
    "B = np.linalg.inv(A)\n",
    "print(B,'\\n')\n",
    "\n",
    "print('將兩個陣列相乘的結果如下:')\n",
    "C = np.dot(A,B)\n",
    "np.linalg.det(C)\n",
    "print(C, '\\n')\n",
    "\n",
    "# 運用上列array計算特徵值、特徵向量?\n",
    "print('計算出的特徵值如下:')\n",
    "E = np.linalg.eig(A)\n",
    "print(E, '\\n')\n",
    "\n",
    "print('特徵值為:')\n",
    "print(E[0], '\\n')\n",
    "\n",
    "print('特徵向量為:')\n",
    "print(E[1], '\\n')\n",
    "\n",
    "# 運用上列array計算SVD。\n",
    "print('計算出來的SVD值如下:\\n', '\\n')\n",
    "U,sigma,VT = np.linalg.svd(A)\n",
    "print('U = ', U, '\\n')\n",
    "\n",
    "print('sigma = ', sigma, '\\n')\n",
    "print('VT = ', VT, '\\n')"
   ]
  },
  {
   "cell_type": "code",
   "execution_count": null,
   "metadata": {},
   "outputs": [],
   "source": []
  }
 ],
 "metadata": {
  "colab": {
   "name": "Day_023_HW.ipynb",
   "provenance": []
  },
  "kernelspec": {
   "display_name": "Python 3",
   "language": "python",
   "name": "python3"
  },
  "language_info": {
   "codemirror_mode": {
    "name": "ipython",
    "version": 3
   },
   "file_extension": ".py",
   "mimetype": "text/x-python",
   "name": "python",
   "nbconvert_exporter": "python",
   "pygments_lexer": "ipython3",
   "version": "3.8.5"
  }
 },
 "nbformat": 4,
 "nbformat_minor": 1
}
