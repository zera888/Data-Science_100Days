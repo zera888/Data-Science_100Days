{
 "cells": [
  {
   "cell_type": "code",
   "execution_count": 4,
   "metadata": {},
   "outputs": [
    {
     "name": "stdout",
     "output_type": "stream",
     "text": [
      "全年級各科最高分: \n",
      "        student_id  math_score  english_score  chinese_score gender\n",
      "class                                                             \n",
      "1               9          98             80             77   girl\n",
      "2               8          70             77             89   girl\n",
      "3              15          89             90             77   girl \n",
      "\n",
      "全年級各科最低分: \n",
      "        student_id  math_score  english_score  chinese_score gender\n",
      "class                                                             \n",
      "1               1          25             43             55    boy\n",
      "2               2          55             45             50    boy\n",
      "3              10          20             40             23    boy \n",
      "\n",
      "全年級數學科平均成績: \n",
      " class\n",
      "1    54.800000\n",
      "2    61.250000\n",
      "3    58.666667\n",
      "Name: math_score, dtype: float64 \n",
      "\n",
      "數學班平均最高的班級: \n",
      " class\n",
      "2    61.250000\n",
      "3    58.666667\n",
      "1    54.800000\n",
      "Name: math_score, dtype: float64 \n",
      "\n",
      "全年級男女生國文科平均成績: \n",
      " gender\n",
      "boy     55.333333\n",
      "girl    62.666667\n",
      "Name: chinese_score, dtype: float64 \n",
      "\n",
      "全年級男女生國文科平均成績相差: \n",
      " 7.333333333333329 分 \n",
      "\n"
     ]
    }
   ],
   "source": [
    "import pandas as pd\n",
    "score_df = pd.DataFrame([[1,50,80,70,'boy',1], \n",
    "              [2,60,45,50,'boy',2],\n",
    "              [3,98,43,55,'boy',1],\n",
    "              [4,70,69,89,'boy',2],\n",
    "              [5,56,79,60,'girl',1],\n",
    "              [6,60,68,55,'girl',2],\n",
    "              [7,45,70,77,'girl',1],\n",
    "              [8,55,77,76,'girl',2],\n",
    "              [9,25,57,60,'girl',1],\n",
    "              [10,88,40,43,'girl',3],\n",
    "              [11,25,60,45,'boy',3],\n",
    "              [12,80,60,23,'boy',3],\n",
    "              [13,20,90,66,'girl',3],\n",
    "              [14,50,50,50,'girl',3],\n",
    "              [15,89,67,77,'girl',3]],\n",
    "            columns=['student_id','math_score','english_score','chinese_score','gender','class'])\n",
    "score_df\n",
    "# 找出全年級各科成績最高分與最低分?\n",
    "max_score = score_df.groupby('class').max()\n",
    "print('全年級各科最高分:','\\n', max_score, '\\n')\n",
    "min_score = score_df.groupby('class').min()\n",
    "print('全年級各科最低分:','\\n', min_score, '\\n')\n",
    "\n",
    "# 找出數學班平均最高的班級?\n",
    "mean_score = score_df.groupby('class')['math_score'].mean()\n",
    "print('全年級數學科平均成績:','\\n', mean_score, '\\n')\n",
    "math_score =score_df.groupby('class')['math_score'].mean().sort_values(ascending=False)\n",
    "print('數學班平均最高的班級:','\\n', math_score, '\\n')\n",
    "\n",
    "# 分析全校女生與男生國文平均差幾分?\n",
    "# 分析全校女生與男生國文平均差幾分?\n",
    "chinese_mean_score = score_df.groupby('gender')['chinese_score'].mean()\n",
    "print('全年級男女生國文科平均成績:','\\n',chinese_mean_score, '\\n')\n",
    "chinese_mean_score = score_df.groupby('gender')['chinese_score'].mean()\n",
    "chinese_diff = chinese_mean_score['girl'] -chinese_mean_score['boy']\n",
    "print('全年級男女生國文科平均成績相差:','\\n',chinese_diff, '分','\\n')"
   ]
  }
 ],
 "metadata": {
  "kernelspec": {
   "display_name": "Python 3",
   "language": "python",
   "name": "python3"
  },
  "language_info": {
   "codemirror_mode": {
    "name": "ipython",
    "version": 3
   },
   "file_extension": ".py",
   "mimetype": "text/x-python",
   "name": "python",
   "nbconvert_exporter": "python",
   "pygments_lexer": "ipython3",
   "version": "3.8.5"
  }
 },
 "nbformat": 4,
 "nbformat_minor": 4
}
