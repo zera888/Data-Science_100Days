{
 "cells": [
  {
   "cell_type": "code",
   "execution_count": 38,
   "metadata": {},
   "outputs": [
    {
     "name": "stdout",
     "output_type": "stream",
     "text": [
      "陣列A的元素如下:\n",
      "\n",
      "[[10  8]\n",
      " [ 3  5]] \n",
      "\n",
      "陣列A的反矩陣的計算結果如下:\n",
      "\n",
      "[[ 0.19230769 -0.30769231]\n",
      " [-0.11538462  0.38461538]] \n",
      "\n",
      "將兩個陣列相乘的結果如下:\n",
      "[[1. 0.]\n",
      " [0. 1.]] \n",
      "\n",
      "計算出的特徵值如下:\n",
      "(array([13.,  2.]), array([[ 0.93632918, -0.70710678],\n",
      "       [ 0.35112344,  0.70710678]])) \n",
      "\n",
      "特徵值為:\n",
      "[13.  2.] \n",
      "\n",
      "特徵向量為:\n",
      "[[ 0.93632918 -0.70710678]\n",
      " [ 0.35112344  0.70710678]] \n",
      "\n",
      "計算出來的SVD值如下:\n",
      " \n",
      "\n",
      "U =  [[-0.91663818 -0.39971796]\n",
      " [-0.39971796  0.91663818]] \n",
      "\n",
      "sigma =  [13.94721714  1.86417116] \n",
      "\n",
      "VT =  [[-0.74319741 -0.6690722 ]\n",
      " [-0.6690722   0.74319741]] \n",
      "\n"
     ]
    }
   ],
   "source": [
    "import numpy as np\n",
    "\n",
    "# 運用上列array計算反矩陣，乘上反矩陣，並觀察矩陣是否為單位矩陣?\n",
    "print('陣列A的元素如下:\\n')\n",
    "A = np.array([[10,8],[3,5]])\n",
    "print(A,'\\n')\n",
    "\n",
    "print('陣列A的反矩陣的計算結果如下:\\n')\n",
    "B = np.linalg.inv(A)\n",
    "print(B,'\\n')\n",
    "\n",
    "print('將兩個陣列相乘的結果如下:')\n",
    "C = np.dot(A,B)\n",
    "np.linalg.det(C)\n",
    "print(C, '\\n')\n",
    "\n",
    "# 運用上列array計算特徵值、特徵向量?\n",
    "print('計算出的特徵值如下:')\n",
    "E = np.linalg.eig(A)\n",
    "print(E, '\\n')\n",
    "\n",
    "print('特徵值為:')\n",
    "print(E[0], '\\n')\n",
    "\n",
    "print('特徵向量為:')\n",
    "print(E[1], '\\n')\n",
    "\n",
    "# 運用上列array計算SVD。\n",
    "print('計算出來的SVD值如下:\\n', '\\n')\n",
    "U,sigma,VT = np.linalg.svd(A)\n",
    "print('U = ', U, '\\n')\n",
    "print('sigma = ', sigma, '\\n')\n",
    "print('VT = ', VT, '\\n')"
   ]
  }
 ],
 "metadata": {
  "kernelspec": {
   "display_name": "Python 3",
   "language": "python",
   "name": "python3"
  },
  "language_info": {
   "codemirror_mode": {
    "name": "ipython",
    "version": 3
   },
   "file_extension": ".py",
   "mimetype": "text/x-python",
   "name": "python",
   "nbconvert_exporter": "python",
   "pygments_lexer": "ipython3",
   "version": "3.8.5"
  }
 },
 "nbformat": 4,
 "nbformat_minor": 4
}
