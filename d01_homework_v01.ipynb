{
 "cells": [
  {
   "cell_type": "markdown",
   "metadata": {
    "id": "P6xk2_jLsvFF"
   },
   "source": [
    "# [作業目標]\n",
    "\n",
    "1. [簡答題] 請問下列兩種將 Array 轉換成 List 的方式有何不同？\n",
    "\n",
    "```\n",
    "print('list(a): ', list(a))\n",
    "print('tolist(): ', a.tolist())\n",
    "```\n",
    "\n",
    "2. 請試著在程式中印出以下三個 NdArray 的屬性？（屬性：ndim、shape、size、dtype、itemsize、length、type）\n",
    "\n",
    "```\n",
    "a = np.random.randint(10, size=6) \n",
    "b = np.random.randint(10, size=(3,4)) \n",
    "c = np.random.randint(10, size=(2,3,2)) \n",
    "```\n",
    "\n",
    "3. 如何利用 list(...) 實現 a.tolist() 的效果？試著用程式實作。\n"
   ]
  },
  {
   "cell_type": "markdown",
   "metadata": {
    "id": "uXGll28asvFS"
   },
   "source": [
    "# 作業 "
   ]
  },
  {
   "cell_type": "markdown",
   "metadata": {
    "id": "SYkvkp9YLwB7"
   },
   "source": [
    "### 1. [簡答題] 請問下列兩種將 Array 轉換成 List 的方式有何不同？\n",
    "\n",
    "```\n",
    "print('list(a): ', list(a))\n",
    "print('tolist(): ', a.tolist())\n",
    "```\n"
   ]
  },
  {
   "cell_type": "code",
   "execution_count": 5,
   "metadata": {
    "id": "5QrYoyNWsvFS",
    "outputId": "13f374d0-6f1b-47aa-bbac-c7d1a8c6995c"
   },
   "outputs": [
    {
     "name": "stdout",
     "output_type": "stream",
     "text": [
      "陣列a的內容如下： \n",
      " [[ 0  1  2  3  4]\n",
      " [ 5  6  7  8  9]\n",
      " [10 11 12 13 14]] \n",
      "\n",
      "第一種將Array a 轉成List的方式: list(a) \n",
      "list(a):  [array([0, 1, 2, 3, 4]), array([5, 6, 7, 8, 9]), array([10, 11, 12, 13, 14])]\n",
      "\n",
      "第二種將Array a 轉成List的方式: a.tolist()\n",
      "tolist():  [[0, 1, 2, 3, 4], [5, 6, 7, 8, 9], [10, 11, 12, 13, 14]]\n"
     ]
    }
   ],
   "source": [
    "import numpy as np\n",
    "\n",
    "a = np.arange(15).reshape(3, 5)\n",
    "print('陣列a的內容如下：', '\\n', a, '\\n')\n",
    "\n",
    "print('第一種將Array a 轉成List的方式: list(a) ')\n",
    "print('list(a): ', list(a))\n",
    "print()\n",
    "print('第二種將Array a 轉成List的方式: a.tolist()')\n",
    "print('tolist(): ', a.tolist())"
   ]
  },
  {
   "cell_type": "markdown",
   "metadata": {
    "id": "AC9wUCyALwB9"
   },
   "source": [
    "### 2. 請試著在程式中印出以下三個 NdArray 的屬性並且解釋結果？（屬性：ndim、shape、size、dtype、itemsize、length、type）\n",
    "\n",
    "```\n",
    "a = np.random.randint(10, size=6) \n",
    "b = np.random.randint(10, size=(3,4)) \n",
    "c = np.random.randint(10, size=(2,3,2)) \n",
    "```"
   ]
  },
  {
   "cell_type": "code",
   "execution_count": 18,
   "metadata": {
    "id": "4qARRsdtLwB-"
   },
   "outputs": [
    {
     "name": "stdout",
     "output_type": "stream",
     "text": [
      "陣列a的內容如下： \n",
      " [8 1 5 4 6 9] \n",
      "\n",
      "a.ndim: 1\n",
      "a.shape: (6,)\n",
      "a.size: 6\n",
      "a.dtype: int32\n",
      "a.itemsize: 4\n",
      "len(a): 6\n",
      "type(a): <class 'numpy.ndarray'>\n"
     ]
    }
   ],
   "source": [
    "import numpy as np\n",
    "\n",
    "a = np.random.randint(10, size=6) \n",
    "print('陣列a的內容如下：', '\\n', a ,'\\n')\n",
    "\n",
    "print('a.ndim:', a.ndim)\n",
    "print('a.shape:', a.shape)\n",
    "print('a.size:', a.size)\n",
    "print('a.dtype:', a.dtype)\n",
    "print('a.itemsize:', a.itemsize)\n",
    "print(\"len(a):\", len(a))\n",
    "print('type(a):', type(a))"
   ]
  },
  {
   "cell_type": "code",
   "execution_count": 22,
   "metadata": {
    "id": "e1gVI0tvsvFY",
    "outputId": "9be10770-9042-40c8-c4bc-217b84be9fc9"
   },
   "outputs": [
    {
     "name": "stdout",
     "output_type": "stream",
     "text": [
      "陣列b的內容如下： \n",
      " [[7 0 5 7]\n",
      " [2 7 9 4]\n",
      " [7 9 3 4]] \n",
      "\n",
      "b.ndim: 2\n",
      "b.shape: (3, 4)\n",
      "b.size: 12\n",
      "b.dtype: int32\n",
      "b.itemsize: 4\n",
      "len(b): 3\n",
      "type(b): <class 'numpy.ndarray'>\n"
     ]
    }
   ],
   "source": [
    "import numpy as np\n",
    "\n",
    "b = np.random.randint(10, size=(3,4)) \n",
    "\n",
    "print('陣列b的內容如下：', '\\n', b ,'\\n')\n",
    "\n",
    "print('b.ndim:', b.ndim)\n",
    "print('b.shape:', b.shape)\n",
    "print('b.size:', b.size)\n",
    "print('b.dtype:', b.dtype)\n",
    "print('b.itemsize:', b.itemsize)\n",
    "print(\"len(b):\", len(b))\n",
    "print('type(b):', type(b))"
   ]
  },
  {
   "cell_type": "code",
   "execution_count": 23,
   "metadata": {
    "id": "iIJrIr7kLwB_",
    "outputId": "083c5519-394c-404e-9764-100c4ed5118a"
   },
   "outputs": [
    {
     "name": "stdout",
     "output_type": "stream",
     "text": [
      "陣列c的內容如下： \n",
      " [[[9 6]\n",
      "  [6 3]\n",
      "  [6 2]]\n",
      "\n",
      " [[1 4]\n",
      "  [2 4]\n",
      "  [0 9]]] \n",
      "\n",
      "c.ndim: 3\n",
      "c.shape: (2, 3, 2)\n",
      "c.size: 12\n",
      "c.dtype: int32\n",
      "c.itemsize: 4\n",
      "len(c): 2\n",
      "type(c): <class 'numpy.ndarray'>\n"
     ]
    }
   ],
   "source": [
    "import numpy as np\n",
    "\n",
    "c = np.random.randint(10, size=(2,3,2))  \n",
    "print('陣列c的內容如下：', '\\n', c ,'\\n')\n",
    "\n",
    "print('c.ndim:', c.ndim)\n",
    "print('c.shape:', c.shape)\n",
    "print('c.size:', c.size)\n",
    "print('c.dtype:', c.dtype)\n",
    "print('c.itemsize:', c.itemsize)\n",
    "print(\"len(c):\", len(c))\n",
    "print('type(c):', type(c))"
   ]
  },
  {
   "cell_type": "markdown",
   "metadata": {
    "id": "Uf6zC0QZLwCE"
   },
   "source": [
    "### 3. 如何利用 list(...) 實現 a.tolist() 的效果？試著用程式實作。\n"
   ]
  },
  {
   "cell_type": "code",
   "execution_count": 33,
   "metadata": {
    "id": "sCUzHu_BLwCF",
    "outputId": "ba9c8945-8efb-42b1-f978-2bbdda97accd"
   },
   "outputs": [
    {
     "name": "stdout",
     "output_type": "stream",
     "text": [
      "陣列 a 的內容如下： \n",
      " [3 4 0 4 6 0] \n",
      "\n",
      "陣列 a 轉成 a.tolist() : \n",
      " [3, 4, 0, 4, 6, 0] \n",
      "\n",
      "陣列 a 轉成 list(a)： \n",
      " [3, 4, 0, 4, 6, 0] \n",
      "\n"
     ]
    }
   ],
   "source": [
    "a = np.random.randint(10, size=6) \n",
    "\n",
    "print('陣列 a 的內容如下：', '\\n', a, '\\n')\n",
    "print('陣列 a 轉成 a.tolist() :','\\n', a.tolist(), '\\n')\n",
    "print('陣列 a 轉成 list(a)：','\\n',list(a), '\\n')\n"
   ]
  },
  {
   "cell_type": "code",
   "execution_count": 32,
   "metadata": {
    "id": "IUkVtw8RLwCG",
    "outputId": "e39875a5-5ec7-431b-c12a-485acc167e44"
   },
   "outputs": [
    {
     "name": "stdout",
     "output_type": "stream",
     "text": [
      "陣列 b 的內容如下： \n",
      " [[2 9 1 2]\n",
      " [3 7 0 7]\n",
      " [9 0 2 1]] \n",
      "\n",
      "陣列 b 轉成 b.tolist() : \n",
      " [[2, 9, 1, 2], [3, 7, 0, 7], [9, 0, 2, 1]] \n",
      "\n",
      "陣列 b 轉成 list(b)： \n",
      " [array([2, 9, 1, 2]), array([3, 7, 0, 7]), array([9, 0, 2, 1])] \n",
      "\n"
     ]
    }
   ],
   "source": [
    "b = np.random.randint(10, size=(3,4)) \n",
    "\n",
    "print('陣列 b 的內容如下：', '\\n', b, '\\n')\n",
    "print('陣列 b 轉成 b.tolist() :','\\n', b.tolist(), '\\n')\n",
    "print('陣列 b 轉成 list(b)：','\\n',list(b), '\\n')\n"
   ]
  },
  {
   "cell_type": "code",
   "execution_count": 31,
   "metadata": {
    "id": "NPhF8_CqLwCG",
    "outputId": "51fab908-5bfd-415f-9584-92bb376648c8"
   },
   "outputs": [
    {
     "name": "stdout",
     "output_type": "stream",
     "text": [
      "陣列 c 的內容如下： \n",
      " [[[8 8]\n",
      "  [1 0]\n",
      "  [9 9]]\n",
      "\n",
      " [[2 1]\n",
      "  [2 7]\n",
      "  [0 0]]] \n",
      "\n",
      "陣列 c 轉成 c.tolist() : \n",
      " [[[8, 8], [1, 0], [9, 9]], [[2, 1], [2, 7], [0, 0]]] \n",
      "\n",
      "陣列 c 轉成list(c)： \n",
      " [array([[8, 8],\n",
      "       [1, 0],\n",
      "       [9, 9]]), array([[2, 1],\n",
      "       [2, 7],\n",
      "       [0, 0]])] \n",
      "\n"
     ]
    }
   ],
   "source": [
    "c = np.random.randint(10, size=(2,3,2)) \n",
    "\n",
    "print('陣列 c 的內容如下：', '\\n', c, '\\n')\n",
    "print('陣列 c 轉成 c.tolist() :','\\n', c.tolist(), '\\n')\n",
    "print('陣列 c 轉成list(c)：','\\n',list(c), '\\n')"
   ]
  },
  {
   "cell_type": "code",
   "execution_count": 34,
   "metadata": {
    "id": "3Hc8vQYtLwCH",
    "outputId": "1290bc93-84ca-4da4-eb1a-315da37afaff"
   },
   "outputs": [
    {
     "name": "stdout",
     "output_type": "stream",
     "text": [
      "[3, 4, 0, 4, 6, 0]\n",
      "[[2, 9, 1, 2], [3, 7, 0, 7], [9, 0, 2, 1]]\n",
      "[[[8, 8], [1, 0], [9, 9]], [[2, 1], [2, 7], [0, 0]]]\n"
     ]
    }
   ],
   "source": [
    "def tolist(iterable):\n",
    "    if type(iterable) != np.ndarray:\n",
    "        return iterable\n",
    "    else:\n",
    "        return [tolist(obj) for obj in iterable]\n",
    "    \n",
    "print(tolist(a))\n",
    "print(tolist(b))\n",
    "print(tolist(c))"
   ]
  },
  {
   "cell_type": "code",
   "execution_count": 39,
   "metadata": {
    "id": "2lDVOwFpLwCJ",
    "outputId": "ddfa84e4-3d32-4a68-c250-f57b2f66d830"
   },
   "outputs": [
    {
     "name": "stdout",
     "output_type": "stream",
     "text": [
      "[3, 4, 0, 4, 6, 0]\n",
      "[[2, 9, 1, 2], [3, 7, 0, 7], [9, 0, 2, 1]]\n",
      "[[[8, 8], [1, 0], [9, 9]], [[2, 1], [2, 7], [0, 0]]]\n"
     ]
    }
   ],
   "source": [
    "def list(index):\n",
    "    return index.tolist()\n",
    "\n",
    "\n",
    "print(list(a))\n",
    "print(list(b))\n",
    "print(list(c))"
   ]
  },
  {
   "cell_type": "code",
   "execution_count": null,
   "metadata": {
    "id": "tvqCpuFILwCK"
   },
   "outputs": [],
   "source": [
    "\n",
    "作業-延伸題:\n",
    "\n",
    "在array中，可以靈活應用索引幫助資料擷取 作業重點: 陣列的索引、切片、以及屬性，皆需要注意使用方式 陣列之中索引式由0開始請同學注意\n",
    "\n",
    "1.生成一個等差數列，首數為0，尾數為20，公差為1的數列。\n"
   ]
  },
  {
   "cell_type": "code",
   "execution_count": 40,
   "metadata": {
    "id": "640whg6NLwCK"
   },
   "outputs": [
    {
     "name": "stdout",
     "output_type": "stream",
     "text": [
      "請輸入陣列的最大值:20\n",
      "\n",
      "請列出從0到 20 的公差為1的數列 \n",
      "[ 0.  1.  2.  3.  4.  5.  6.  7.  8.  9. 10. 11. 12. 13. 14. 15. 16. 17.\n",
      " 18. 19. 20.]\n",
      "\n",
      "請列出從0到 20 的公差為2的數列 \n",
      "[ 0  2  4  6  8 10 12 14 16 18]\n",
      "\n",
      "請列出從0到 20 的公差為3的數列 \n",
      "[ 0  3  6  9 12 15 18]\n"
     ]
    }
   ],
   "source": [
    "import numpy as np\n",
    "n = input(\"請輸入陣列的最大值:\")\n",
    "print()\n",
    "\n",
    "na = np.linspace(0, int(n) , int(n)+1) \n",
    "print(\"請列出從0到 %d 的公差為1的數列 \" % (int(n)))\n",
    "print(na)\n",
    "print()\n",
    "\n",
    "print(\"請列出從0到 %d 的公差為2的數列 \" % (int(n)))\n",
    "nb = np.arange(0, int(n) , 2) \n",
    "print(nb)\n",
    "print()\n",
    "\n",
    "print(\"請列出從0到 %d 的公差為3的數列 \" % (int(n)))\n",
    "nc = np.arange(0, int(n) , 3) \n",
    "print(nc)"
   ]
  }
 ],
 "metadata": {
  "colab": {
   "name": "01Homework_維元.ipynb",
   "provenance": []
  },
  "kernelspec": {
   "display_name": "Python 3",
   "language": "python",
   "name": "python3"
  },
  "language_info": {
   "codemirror_mode": {
    "name": "ipython",
    "version": 3
   },
   "file_extension": ".py",
   "mimetype": "text/x-python",
   "name": "python",
   "nbconvert_exporter": "python",
   "pygments_lexer": "ipython3",
   "version": "3.8.5"
  }
 },
 "nbformat": 4,
 "nbformat_minor": 1
}
