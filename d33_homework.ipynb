{
 "cells": [
  {
   "cell_type": "markdown",
   "metadata": {},
   "source": [
    "## 作業:\n",
    "某工廠想知道兩條不同的生產線的產品不良率是否有所不同，由兩條生產線中各抽取 300 個樣本，第一組有  75 個不良品，第二組有 30 個不良品，我們可以宣稱生產線所生產出的產品不良率不相同? (以 0.05 為顯著水準)?    \n",
    "(提示:透過課程投影片的步驟，需思考 𝐻_0、 𝐻_1 的寫法和範例不同唷。)   \n",
    "\n"
   ]
  },
  {
   "cell_type": "code",
   "execution_count": 9,
   "metadata": {
    "colab": {
     "base_uri": "https://localhost:8080/",
     "height": 34
    },
    "colab_type": "code",
    "executionInfo": {
     "elapsed": 1558,
     "status": "ok",
     "timestamp": 1578021044012,
     "user": {
      "displayName": "Mora chen",
      "photoUrl": "https://lh3.googleusercontent.com/a-/AAuE7mB40f7sDArbZ5_DYq02nNcnLD0Ryaf7AhsASSQeLQ=s64",
      "userId": "03171203089166907199"
     },
     "user_tz": -480
    },
    "id": "yz28_IgkYdBW",
    "outputId": "a12f486c-18b3-4fb5-d06c-f162aebd9444"
   },
   "outputs": [
    {
     "name": "stdout",
     "output_type": "stream",
     "text": [
      "0.0304138126514911\n",
      "4.931969619160719\n",
      "0.9999995929770993\n",
      "H1 = True\n",
      "兩者的差距顯著\n"
     ]
    }
   ],
   "source": [
    "# library\n",
    "import matplotlib.pyplot as plt\n",
    "import numpy as np\n",
    "import pandas as pd\n",
    "from scipy import stats\n",
    "import math \n",
    "import statistics\n",
    "import seaborn as sns\n",
    "#雙樣本比例檢定\n",
    "## 透過算式傳統方法計算結果\n",
    "mu=0\n",
    "sigma=1\n",
    "print(math.sqrt(0.25*0.75/300+0.1*0.9/300))\n",
    "x=0.15/math.sqrt(0.25*0.75/300+0.1*0.9/300)\n",
    "cumsum_probs =  stats.norm.cdf(x,mu, sigma)\n",
    "print(x)\n",
    "print(cumsum_probs )\n",
    "\n",
    "import statsmodels.stats.proportion\n",
    "A = [75,30] # 不良品的個數\n",
    "B = [300,300] #各組樣本總個數\n",
    "statsmodels.stats.proportion.proportions_ztest(A, B, alternative='smaller')\n",
    "\n",
    "p1=0.25\n",
    "p2=0.1\n",
    "if p1-p2 >2 :\n",
    "    print('H0 = True')\n",
    "    print('兩者差距並不顯著')\n",
    "if p1-p2<0.2:\n",
    "    print('H1 = True')\n",
    "    print('兩者的差距顯著')\n",
    "    "
   ]
  }
 ],
 "metadata": {
  "colab": {
   "name": "Day33.YOLO 細節理解 - 網路輸出的後處理_HW.ipynb",
   "provenance": []
  },
  "kernelspec": {
   "display_name": "Python 3",
   "language": "python",
   "name": "python3"
  },
  "language_info": {
   "codemirror_mode": {
    "name": "ipython",
    "version": 3
   },
   "file_extension": ".py",
   "mimetype": "text/x-python",
   "name": "python",
   "nbconvert_exporter": "python",
   "pygments_lexer": "ipython3",
   "version": "3.8.5"
  }
 },
 "nbformat": 4,
 "nbformat_minor": 1
}
