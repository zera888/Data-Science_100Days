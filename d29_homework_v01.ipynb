{
 "cells": [
  {
   "cell_type": "markdown",
   "metadata": {},
   "source": [
    "## 作業:\n",
    "今天學到五種分配，包含，   \n",
    "離散均勻分配( Discrete Uniform Distribution )   \n",
    "伯努利分配( Bernoulli Distribution )   \n",
    "二項分配(Binomial Distribution)  \n",
    "負二項分配(Negative Binomial Distribution)  \n",
    "超幾何分配(Hypergeometric Distribution)   \n",
    "今天我們透過作業中的問題，回想今天的內容吧!  "
   ]
  },
  {
   "cell_type": "markdown",
   "metadata": {},
   "source": [
    "### Q1: 大樂透的頭獎，你必須從49個挑選出 6 個號碼，\n",
    "### 且這六個號碼與頭獎的六個號碼一致，頭獎的機率是屬於哪一種分配?"
   ]
  },
  {
   "cell_type": "code",
   "execution_count": null,
   "metadata": {
    "collapsed": true
   },
   "outputs": [],
   "source": [
    "Answer ： 超幾何分配描述了由有限個物件中抽出n個物件，成功抽出指定種類的物件的個數 (取後不放回)，記做：X~HG(N,K,n)\n",
    "          N：共有幾個物件，N＝0, 1, ...\n",
    "\n",
    "          K：N個物件中，有K個是你關心的物件類型個數，K=0,1,2,...,N\n",
    "\n",
    "          n：K個物件，要抽出n個物件，n=0,1,...,N"
   ]
  },
  {
   "cell_type": "markdown",
   "metadata": {},
   "source": [
    "### Q2: 運用範例的 python 程式碼，計算大樂透的中頭獎機率?"
   ]
  },
  {
   "cell_type": "code",
   "execution_count": 7,
   "metadata": {},
   "outputs": [
    {
     "name": "stdout",
     "output_type": "stream",
     "text": [
      "r= [0 1 2 3 4 5 6]\n",
      "\n",
      "probs= [4.35964976e-01 4.13019450e-01 1.32378029e-01 1.76504039e-02\n",
      " 9.68619724e-04 1.84498995e-05 7.15112384e-08]\n",
      "\n",
      "type(probs)= <class 'numpy.ndarray'>\n",
      "\n"
     ]
    },
    {
     "data": {
      "image/png": "[encoded data removed]",
      "text/plain": [
       "<Figure size 432x288 with 1 Axes>"
      ]
     },
     "metadata": {
      "needs_background": "light"
     },
     "output_type": "display_data"
    }
   ],
   "source": [
    "import matplotlib.pyplot as plt\n",
    "import numpy as np\n",
    "import pandas as pd\n",
    "from scipy import stats\n",
    "import math\n",
    "import statistics\n",
    "\n",
    "# 1.定義超幾何分配的基本資訊\n",
    "# 在49個數字裡面，只關心和頭獎中獎數字相符合的六個數字，並且選出相同的六個數字\n",
    "N=49\n",
    "K=6\n",
    "n=6\n",
    "\n",
    "#產生一個同樣間隔的序列\n",
    "r = np.arange(0, min(n+1,K+1)) #產出 x 對應點\n",
    "print('r=', r)\n",
    "print()\n",
    "\n",
    "# 2.計算機率質量函數 (probability mass function)\n",
    "# P(X=x) --> 是機率\n",
    "probs = stats.hypergeom.pmf(r, N,K,n)\n",
    "print('probs=',probs)\n",
    "print()\n",
    "print('type(probs)=',type(probs))\n",
    "print()\n",
    "\n",
    "plt.bar(r, probs)\n",
    "plt.ylabel('P(X=x)')\n",
    "plt.xlabel('x')\n",
    "plt.title('pmf of Hypergeometric(N=49,K=6,n=6)')\n",
    "plt.show()"
   ]
  },
  {
   "cell_type": "markdown",
   "metadata": {},
   "source": [
    "### Q3: 你覺得電腦簽注的中獎機率，和人腦簽注相比，哪一個機率高?"
   ]
  },
  {
   "cell_type": "code",
   "execution_count": 9,
   "metadata": {},
   "outputs": [
    {
     "name": "stdout",
     "output_type": "stream",
     "text": [
      "r= [0 1 2 3 4 5 6]\n",
      "\n",
      "probs= [4.35964976e-01 4.13019450e-01 1.32378029e-01 1.76504039e-02\n",
      " 9.68619724e-04 1.84498995e-05 7.15112384e-08]\n",
      "\n",
      "type(probs)= <class 'numpy.ndarray'>\n",
      "\n"
     ]
    },
    {
     "data": {
      "image/png": "[encoded data removed]",
      "text/plain": [
       "<Figure size 432x288 with 1 Axes>"
      ]
     },
     "metadata": {
      "needs_background": "light"
     },
     "output_type": "display_data"
    }
   ],
   "source": [
    "import matplotlib.pyplot as plt\n",
    "import numpy as np\n",
    "import pandas as pd\n",
    "from scipy import stats\n",
    "import math\n",
    "import statistics\n",
    "\n",
    "# 1.定義超幾何分配的基本資訊\n",
    "# 在49個數字裡面，只關心和頭獎中獎數字相符合的六個數字，並且選出相同的六個數字\n",
    "N=49\n",
    "K=6\n",
    "n=6\n",
    "\n",
    "#產生一個同樣間隔的序列\n",
    "r = np.arange(0, min(n+1,K+1)) #產出 x 對應點\n",
    "print('r=', r)\n",
    "print()\n",
    "\n",
    "# 2.計算機率質量函數 (probability mass function)\n",
    "# P(X=x) --> 是機率\n",
    "probs = stats.hypergeom.pmf(r, N,K,n)\n",
    "print('probs=',probs)\n",
    "print()\n",
    "print('type(probs)=',type(probs))\n",
    "print()\n",
    "\n",
    "plt.bar(r, probs)\n",
    "plt.ylabel('P(X=x)')\n",
    "plt.xlabel('x')\n",
    "plt.title('pmf of Hypergeometric(N=49,K=6,n=6)')\n",
    "plt.show()"
   ]
  },
  {
   "cell_type": "code",
   "execution_count": 10,
   "metadata": {},
   "outputs": [
    {
     "name": "stdout",
     "output_type": "stream",
     "text": [
      "r= [0 1 2 3 4 5 6]\n",
      "\n",
      "probs= [0.09617575 0.29847647 0.34822255 0.19470508 0.0547608  0.00730144\n",
      " 0.00035791]\n",
      "\n",
      "type(probs)= <class 'numpy.ndarray'>\n",
      "\n"
     ]
    },
    {
     "data": {
      "image/png": "[encoded data removed]",
      "text/plain": [
       "<Figure size 432x288 with 1 Axes>"
      ]
     },
     "metadata": {
      "needs_background": "light"
     },
     "output_type": "display_data"
    }
   ],
   "source": [
    "#其次計算人腦簽注的中獎機率，人腦會從42個號碼中隨機關固定的一組號碼或是偶爾隨機加入和時事相關的號碼，假設關注的範圍有1/3左右約15個號碼，並且從中選出六個\n",
    "N=49\n",
    "K=15\n",
    "n=6\n",
    "\n",
    "#產生一個同樣間隔的序列\n",
    "r = np.arange(0, min(n+1,K+1)) #產出 x 對應點\n",
    "print('r=', r)\n",
    "print()\n",
    "\n",
    "# 2.計算機率質量函數 (probability mass function)\n",
    "# P(X=x) --> 是機率\n",
    "probs = stats.hypergeom.pmf(r, N,K,n)\n",
    "print('probs=',probs)\n",
    "print()\n",
    "print('type(probs)=',type(probs))\n",
    "print()\n",
    "\n",
    "plt.bar(r, probs)\n",
    "plt.ylabel('P(X=x)')\n",
    "plt.xlabel('x')\n",
    "plt.title('pmf of Hypergeometric(N=49,K=15,n=6)')\n",
    "plt.show()"
   ]
  },
  {
   "cell_type": "code",
   "execution_count": null,
   "metadata": {},
   "outputs": [],
   "source": [
    "從以上可以看出電腦選號的中獎號碼很集中，但是中獎的機率是高達0.4以上，而人腦選號的號碼比較分散，中獎的機率最高不超過0.35，\n",
    "所以是電腦選號的中獎機率比較高。"
   ]
  }
 ],
 "metadata": {
  "colab": {
   "name": "Day33.YOLO 細節理解 - 網路輸出的後處理_HW.ipynb",
   "provenance": []
  },
  "kernelspec": {
   "display_name": "Python 3",
   "language": "python",
   "name": "python3"
  },
  "language_info": {
   "codemirror_mode": {
    "name": "ipython",
    "version": 3
   },
   "file_extension": ".py",
   "mimetype": "text/x-python",
   "name": "python",
   "nbconvert_exporter": "python",
   "pygments_lexer": "ipython3",
   "version": "3.8.5"
  }
 },
 "nbformat": 4,
 "nbformat_minor": 1
}
