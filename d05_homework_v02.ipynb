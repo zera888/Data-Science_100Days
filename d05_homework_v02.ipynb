{
 "cells": [
  {
   "cell_type": "markdown",
   "metadata": {
    "colab_type": "text",
    "id": "P6xk2_jLsvFF"
   },
   "source": [
    "# [作業目標]\n",
    "\n",
    "1. 產生一個 1-11 的一維陣列，並且把 3-6 由正數變成負數。\n",
    "2. 試著從一個隨機陣列中，找出比 0.5 大的數有幾個？\n",
    "\n"
   ]
  },
  {
   "cell_type": "markdown",
   "metadata": {
    "colab_type": "text",
    "id": "uXGll28asvFS"
   },
   "source": [
    "# 作業 "
   ]
  },
  {
   "cell_type": "markdown",
   "metadata": {},
   "source": [
    "### 1. 產生一個 1-11 的一維陣列，並且把 3-6 由正數變成負數。\n",
    "\n"
   ]
  },
  {
   "cell_type": "code",
   "execution_count": 29,
   "metadata": {},
   "outputs": [
    {
     "data": {
      "text/plain": [
       "array([ 0,  1,  2,  3,  4,  5,  6,  7,  8,  9, 10, 11])"
      ]
     },
     "execution_count": 29,
     "metadata": {},
     "output_type": "execute_result"
    }
   ],
   "source": [
    "# 記得先 Import 正確的套件\n",
    "\n",
    "import numpy as np\n",
    "\n",
    "data = np.arange(12)\n",
    "data"
   ]
  },
  {
   "cell_type": "code",
   "execution_count": 59,
   "metadata": {},
   "outputs": [
    {
     "name": "stdout",
     "output_type": "stream",
     "text": [
      "[ 1  2 -3 -4 -5 -6  7  8  9 10 11]\n"
     ]
    }
   ],
   "source": [
    "for i in a-1:\n",
    "    if (a[i] > 2) & (a[i] < 7):\n",
    "        a[i] = -a[i]\n",
    "        \n",
    "print(a)"
   ]
  },
  {
   "cell_type": "markdown",
   "metadata": {},
   "source": [
    "### 2. 試著從一個隨機陣列中，找出比 0.5 大的數有幾個？\n",
    "\n"
   ]
  },
  {
   "cell_type": "code",
   "execution_count": 35,
   "metadata": {
    "colab": {},
    "colab_type": "code",
    "id": "e1gVI0tvsvFY"
   },
   "outputs": [
    {
     "data": {
      "text/plain": [
       "array([[0.21593469, 0.69780009, 0.40266551, 0.81620775, 0.47056591,\n",
       "        0.78680711],\n",
       "       [0.38820176, 0.64195817, 0.54020725, 0.79543075, 0.26136648,\n",
       "        0.09285435],\n",
       "       [0.49265438, 0.27780805, 0.30403838, 0.7450431 , 0.77072972,\n",
       "        0.40880788]])"
      ]
     },
     "execution_count": 35,
     "metadata": {},
     "output_type": "execute_result"
    }
   ],
   "source": [
    "A = np.random.rand(3, 6)\n",
    "A"
   ]
  },
  {
   "cell_type": "code",
   "execution_count": 57,
   "metadata": {},
   "outputs": [
    {
     "name": "stdout",
     "output_type": "stream",
     "text": [
      "列出大於0.5的數值 \n",
      " [0.69780009 0.81620775 0.78680711 0.64195817 0.54020725 0.79543075\n",
      " 0.7450431  0.77072972] \n",
      "\n",
      "大於0.5的數值共有 8 個 \n",
      "\n"
     ]
    }
   ],
   "source": [
    "print('列出大於0.5的數值','\\n',A[A>0.5],'\\n')\n",
    "len(A[A>0.5])\n",
    "print('大於0.5的數值共有',len(A[A>0.5]),'個','\\n')\n"
   ]
  },
  {
   "cell_type": "code",
   "execution_count": null,
   "metadata": {},
   "outputs": [],
   "source": [
    "題目:\n",
    "english_score = np.array([55,89,76,65,48,70])\n",
    "math_score = np.array([60,85,60,68,np.nan,60])\n",
    "chinese_score = np.array([65,90,82,72,66,77])\n",
    "上3列共六位同學的英文、數學、國文成績，第一個元素代表第一位同學，舉例第一位同學英文55分、數學60分、國文65分，今天第五位同學因某原因沒來考試，\n",
    "導致數學成績缺值，運用上列數據回答下列問題。\n",
    "\n",
    "    請計算各科成績平均、最大值、最小值、標準差，其中數學缺一筆資料可忽略?\n",
    "    第五位同學補考數學後成績為55，請計算補考後數學成績平均、最大值、最小值、標準差?\n",
    "    用補考後資料找出與國文成績相關係數最高的學科?\n",
    "\n"
   ]
  },
  {
   "cell_type": "code",
   "execution_count": 58,
   "metadata": {},
   "outputs": [
    {
     "name": "stdout",
     "output_type": "stream",
     "text": [
      "英文科的最高分數是: 89 \n",
      "\n",
      "英文科的最低分數是: 48 \n",
      "\n",
      "英文科的標準差是: 14.716204220744787 \n",
      "\n",
      "數學科的最高分數是: 85.0 \n",
      "\n",
      "數學科的最低分數是: 60.0 \n",
      "\n",
      "數學科的標準差是: nan \n",
      "\n",
      "國文科的最高分數是: 90 \n",
      "\n",
      "國文科的最低分數是: 65 \n",
      "\n",
      "國文科的標準差是: 9.66781602362533 \n",
      "\n",
      "數學科第五位同學補考成績是55，重新計算最高分、最低分和標準差如下:\n",
      "\n",
      "數學科的最高分數是: 85.0 \n",
      "\n",
      "數學科的最低分數是: 55.0 \n",
      "\n",
      "數學科的標準差是: 10.801234497346433 \n",
      "\n",
      "數學補考後的成績與國文科相關最高係數的學科是:\n",
      "\n",
      "國文與英文科的相關係數是:\n",
      " [[1.         0.97792828]\n",
      " [0.97792828 1.        ]]\n",
      "\n",
      "國文與數學科的相關係數是:\n",
      " [[1.         0.74056803]\n",
      " [0.74056803 1.        ]]\n",
      "\n"
     ]
    }
   ],
   "source": [
    "import numpy as np\n",
    "import pandas as pd\n",
    "\n",
    "english_score =[55,89,76,65,48,70]\n",
    "math_score = np.array([60,85,60,68,np.nan,60])\n",
    "chinese_score = [65, 90, 82, 72, 66, 77]\n",
    "\n",
    "print('英文科的最高分數是:',max(english_score) , '\\n')\n",
    "print('英文科的最低分數是:',min(english_score) , '\\n')\n",
    "print('英文科的標準差是:',np.std(english_score, ddof = 1) , '\\n')\n",
    "\n",
    "print('數學科的最高分數是:',max(math_score) , '\\n')\n",
    "print('數學科的最低分數是:',min(math_score) , '\\n')\n",
    "print('數學科的標準差是:',np.std(math_score, ddof = 1) , '\\n')\n",
    "\n",
    "print('國文科的最高分數是:',max(chinese_score) , '\\n')\n",
    "print('國文科的最低分數是:',min(chinese_score) , '\\n')\n",
    "print('國文科的標準差是:',np.std(chinese_score, ddof = 1) , '\\n')\n",
    "\n",
    "#第五位同學數學補考成績是55，請計算數學科的最高分、最低分，標準差\n",
    "\n",
    "print('數學科第五位同學補考成績是55，重新計算最高分、最低分和標準差如下:\\n')\n",
    "math_score[4] = 55\n",
    "print('數學科的最高分數是:',max(math_score) , '\\n')\n",
    "print('數學科的最低分數是:',min(math_score) , '\\n')\n",
    "print('數學科的標準差是:',np.std(math_score, ddof = 1) , '\\n')\n",
    "\n",
    "#用補考後成績找出與國文科相關係數最高學科\n",
    "\n",
    "print('數學補考後的成績與國文科相關最高係數的學科是:\\n')\n",
    "\n",
    "A = np.vstack((chinese_score, english_score))\n",
    "B = np.vstack((chinese_score, math_score))\n",
    "\n",
    "print('國文與英文科的相關係數是:\\n', np.corrcoef(A))\n",
    "print()\n",
    "print('國文與數學科的相關係數是:\\n',np.corrcoef(B))\n",
    "print()"
   ]
  },
  {
   "cell_type": "code",
   "execution_count": null,
   "metadata": {},
   "outputs": [],
   "source": []
  }
 ],
 "metadata": {
  "colab": {
   "name": "Day_023_HW.ipynb",
   "provenance": []
  },
  "kernelspec": {
   "display_name": "Python 3",
   "language": "python",
   "name": "python3"
  },
  "language_info": {
   "codemirror_mode": {
    "name": "ipython",
    "version": 3
   },
   "file_extension": ".py",
   "mimetype": "text/x-python",
   "name": "python",
   "nbconvert_exporter": "python",
   "pygments_lexer": "ipython3",
   "version": "3.8.5"
  }
 },
 "nbformat": 4,
 "nbformat_minor": 1
}
