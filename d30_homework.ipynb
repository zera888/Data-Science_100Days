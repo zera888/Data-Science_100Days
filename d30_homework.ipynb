{
 "cells": [
  {
   "cell_type": "markdown",
   "metadata": {},
   "source": [
    "## 作業:\n",
    "\n",
    "電影院裡通常都是成對情侶一起去看，假設電影院中有100 個人裡面，有 90 名男性和 10 名女性。在這 10 名女性裡，有一半的人有長髮（5 人），另一半有短髮（5人）；在 90 名男性當中，81 個人有短髮，9個人有長髮。\n",
    "\n",
    "![](Q1.png)"
   ]
  },
  {
   "cell_type": "markdown",
   "metadata": {},
   "source": [
    "### Q1: 所以根據這個情況條件下，你會預測照片中的長髮是男性或女性(直覺回答)?"
   ]
  },
  {
   "cell_type": "code",
   "execution_count": null,
   "metadata": {},
   "outputs": [],
   "source": [
    "Answer：因為社會的刻板印象，一般來說會留長髮的人通常是女性，雖然在這個範本之中，女性的人數相當稀少，甚至於少於長髮的男性，\n",
    "        但是通常直覺的第一印象，會覺得留長髮的是女性。"
   ]
  },
  {
   "cell_type": "markdown",
   "metadata": {},
   "source": [
    "### Q2:以上圖資料，計算當你看到長髮時，是女生的機率?"
   ]
  },
  {
   "cell_type": "code",
   "execution_count": 2,
   "metadata": {},
   "outputs": [
    {
     "name": "stdout",
     "output_type": "stream",
     "text": [
      "P(A|B) = 8.29\n"
     ]
    }
   ],
   "source": [
    "# calculate P(A|B)=長髮女生 given P(A)=長髮, P(B|A)=女生長髮, P(B|not A):女生短髮\n",
    "def bayes_theorem(p_a, p_b_given_a, p_b_given_not_a):\n",
    "\t# calculate P(not A) :短髮\n",
    "\tnot_a = 1 - p_a   #短髮=1-長髮\n",
    "\t# calculate P(B) :女生\n",
    "\tp_b = p_b_given_a * p_a + p_b_given_not_a * not_a\n",
    "\t# calculate P(A|B) ： 長髮女生\n",
    "\tp_a_given_b = (p_b_given_a * p_a) / p_b\n",
    "\treturn p_a_given_b  \n",
    " \n",
    "# P(A): P(長髮)\n",
    "# P(not A): P(短髮)\n",
    "p_a = 0.14  # 長髮= 14/100=0.14\n",
    "# P(B|A): P(長髮|女生)\n",
    "p_b_given_a = 0.2  #P(長髮|女生)=(5/100)/(10/100)=5/10=0.2\n",
    "# P(B|A): P(女生|長髮)\n",
    "p_b_given_not_a = 0.36\n",
    "# calculate P(A|B): P(長髮|女生)\n",
    "result = bayes_theorem(p_a, p_b_given_a, p_b_given_not_a)\n",
    "# summarize\n",
    "# P(女生|長髮)\n",
    "print('P(A|B) = {0}'.format(round(result * 100,2)))"
   ]
  },
  {
   "cell_type": "markdown",
   "metadata": {},
   "source": [
    "### Q3:你的決策因為男生女生比例不同(先驗分配不同)，和投影片的結果相比，決策有沒有改變?"
   ]
  },
  {
   "cell_type": "code",
   "execution_count": 3,
   "metadata": {},
   "outputs": [],
   "source": [
    "Answer:的確改變。因為女性的人數出現的機率的確少於10%，所以根據這個男女生的比例來說，猜測長髮為男性的準確率高於女性。\n"
   ]
  }
 ],
 "metadata": {
  "colab": {
   "name": "Day33.YOLO 細節理解 - 網路輸出的後處理_HW.ipynb",
   "provenance": []
  },
  "kernelspec": {
   "display_name": "Python 3",
   "language": "python",
   "name": "python3"
  },
  "language_info": {
   "codemirror_mode": {
    "name": "ipython",
    "version": 3
   },
   "file_extension": ".py",
   "mimetype": "text/x-python",
   "name": "python",
   "nbconvert_exporter": "python",
   "pygments_lexer": "ipython3",
   "version": "3.8.5"
  }
 },
 "nbformat": 4,
 "nbformat_minor": 1
}
