{
 "cells": [
  {
   "cell_type": "code",
   "execution_count": 57,
   "metadata": {},
   "outputs": [
    {
     "name": "stdout",
     "output_type": "stream",
     "text": [
      "有多少學生英文成績比數學高?\n",
      "\n",
      "有 3 個學生的英文成績比數學高。\n",
      "\n",
      "是否全班同學最高分數都是國文?\n",
      "\n",
      "[ True  True  True  True  True  True]\n"
     ]
    }
   ],
   "source": [
    "import numpy as np\n",
    "english_score = np.array([55,89,76,65,48,70])\n",
    "math_score = np.array([60,85,60,68,55,60])\n",
    "chinese_score = np.array([65,90,82,72,66,77])\n",
    "#\n",
    "#有多少學生英文成績比設數學高\n",
    "#\n",
    "n = 0\n",
    "print('有多少學生英文成績比數學高?\\n')\n",
    "x = english_score > math_score\n",
    "# print(x)\n",
    "for i in range(0,6):\n",
    "   if english_score[i] > math_score[i]:\n",
    "    n += 1\n",
    "print(\"有 %d 個學生的英文成績比數學高。\" % (n))\n",
    "print()\n",
    "#\n",
    "#是否全班同學最高分數都是國文?\n",
    "#\n",
    "print('是否全班同學最高分數都是國文?\\n')\n",
    "y = chinese_score > english_score\n",
    "z = chinese_score > math_score\n",
    "k = np.logical_and(y,z)\n",
    "\n",
    "print(k)"
   ]
  }
 ],
 "metadata": {
  "kernelspec": {
   "display_name": "Python 3",
   "language": "python",
   "name": "python3"
  },
  "language_info": {
   "codemirror_mode": {
    "name": "ipython",
    "version": 3
   },
   "file_extension": ".py",
   "mimetype": "text/x-python",
   "name": "python",
   "nbconvert_exporter": "python",
   "pygments_lexer": "ipython3",
   "version": "3.8.5"
  }
 },
 "nbformat": 4,
 "nbformat_minor": 4
}
