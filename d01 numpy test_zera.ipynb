{
 "cells": [
  {
   "cell_type": "code",
   "execution_count": 31,
   "metadata": {},
   "outputs": [
    {
     "name": "stdout",
     "output_type": "stream",
     "text": [
      "請輸入陣列的最大值:20\n",
      "\n",
      "請列出從0到 20 的公差為1的數列 \n",
      "[ 0.  1.  2.  3.  4.  5.  6.  7.  8.  9. 10. 11. 12. 13. 14. 15. 16. 17.\n",
      " 18. 19. 20.]\n",
      "\n",
      "請列出從0到 20 的公差為2的數列 \n",
      "[ 0  2  4  6  8 10 12 14 16 18]\n",
      "\n",
      "請列出從0到 20 的公差為3的數列 \n",
      "[ 0  3  6  9 12 15 18]\n"
     ]
    }
   ],
   "source": [
    "import numpy as np\n",
    "n = input(\"請輸入陣列的最大值:\")\n",
    "print()\n",
    "\n",
    "na = np.linspace(0, int(n) , int(n)+1) \n",
    "print(\"請列出從0到 %d 的公差為1的數列 \" % (int(n)))\n",
    "print(na)\n",
    "print()\n",
    "\n",
    "print(\"請列出從0到 %d 的公差為2的數列 \" % (int(n)))\n",
    "nb = np.arange(0, int(n) , 2) \n",
    "print(nb)\n",
    "print()\n",
    "\n",
    "print(\"請列出從0到 %d 的公差為3的數列 \" % (int(n)))\n",
    "nc = np.arange(0, int(n) , 3) \n",
    "print(nc)"
   ]
  }
 ],
 "metadata": {
  "kernelspec": {
   "display_name": "Python 3",
   "language": "python",
   "name": "python3"
  },
  "language_info": {
   "codemirror_mode": {
    "name": "ipython",
    "version": 3
   },
   "file_extension": ".py",
   "mimetype": "text/x-python",
   "name": "python",
   "nbconvert_exporter": "python",
   "pygments_lexer": "ipython3",
   "version": "3.8.5"
  }
 },
 "nbformat": 4,
 "nbformat_minor": 4
}
