{
 "cells": [
  {
   "cell_type": "code",
   "execution_count": 20,
   "metadata": {},
   "outputs": [
    {
     "name": "stdout",
     "output_type": "stream",
     "text": [
      "2000uPa的聲壓可以轉換成 :  92.10340371976184 dB\n",
      "30dB相對於50dB的倍數是衰減: 5.108256237659907 倍\n"
     ]
    }
   ],
   "source": [
    "import math\n",
    "v0 = 20\n",
    "v1 = 2000\n",
    "x = 20*math.log(v1/v0)\n",
    "print('2000uPa的聲壓可以轉換成 : ' , x, 'dB')\n",
    "db1 = 50\n",
    "db2 = 30\n",
    "y = 10*math.log(db1/db2)\n",
    "print('30dB相對於50dB的倍數是衰減:',y, '倍')"
   ]
  }
 ],
 "metadata": {
  "kernelspec": {
   "display_name": "Python 3",
   "language": "python",
   "name": "python3"
  },
  "language_info": {
   "codemirror_mode": {
    "name": "ipython",
    "version": 3
   },
   "file_extension": ".py",
   "mimetype": "text/x-python",
   "name": "python",
   "nbconvert_exporter": "python",
   "pygments_lexer": "ipython3",
   "version": "3.8.5"
  }
 },
 "nbformat": 4,
 "nbformat_minor": 4
}
