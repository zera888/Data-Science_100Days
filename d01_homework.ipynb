{
 "cells": [
  {
   "cell_type": "code",
   "execution_count": null,
   "metadata": {},
   "outputs": [],
   "source": [
    "1.生成一個等差數列，首數為0，尾數為20，公差為1的數列。\n",
    "2.呈上題，將以上數列取出偶數。\n",
    "3.呈1題，將數列取出3的倍數。"
   ]
  },
  {
   "cell_type": "code",
   "execution_count": 31,
   "metadata": {
    "scrolled": true
   },
   "outputs": [
    {
     "name": "stdout",
     "output_type": "stream",
     "text": [
      "請輸入陣列的最大值:20\n",
      "\n",
      "請列出從0到 20 的公差為1的數列 \n",
      "[ 0.  1.  2.  3.  4.  5.  6.  7.  8.  9. 10. 11. 12. 13. 14. 15. 16. 17.\n",
      " 18. 19. 20.]\n",
      "\n",
      "請列出從0到 20 的公差為2的數列 \n",
      "[ 0  2  4  6  8 10 12 14 16 18]\n",
      "\n",
      "請列出從0到 20 的公差為3的數列 \n",
      "[ 0  3  6  9 12 15 18]\n"
     ]
    }
   ],
   "source": [
    "import numpy as np\n",
    "n = input(\"請輸入陣列的最大值:\")\n",
    "print()\n",
    "\n",
    "na = np.linspace(0, int(n) , int(n)+1) \n",
    "print(\"請列出從0到 %d 的公差為1的數列 \" % (int(n)))\n",
    "print(na)\n",
    "print()\n",
    "\n",
    "print(\"請列出從0到 %d 的公差為2的數列 \" % (int(n)))\n",
    "nb = np.arange(0, int(n) , 2) \n",
    "print(nb)\n",
    "print()\n",
    "\n",
    "print(\"請列出從0到 %d 的公差為3的數列 \" % (int(n)))\n",
    "nc = np.arange(0, int(n) , 3) \n",
    "print(nc)"
   ]
  },
  {
   "cell_type": "code",
   "execution_count": null,
   "metadata": {},
   "outputs": [],
   "source": [
    "4.[簡答題] 請問下列兩種將 Array 轉換成 List 的方式有何不同？"
   ]
  },
  {
   "cell_type": "code",
   "execution_count": null,
   "metadata": {},
   "outputs": [],
   "source": [
    "#Answer：Array存放的資料類型都是同一類停，List可以存放不同類型的資料。"
   ]
  },
  {
   "cell_type": "code",
   "execution_count": null,
   "metadata": {},
   "outputs": [],
   "source": [
    "5.請試著在程式中印出以下三個 NdArray 的屬性？\n",
    "（屬性：ndim、shape、size、dtype、itemsize、length、type）"
   ]
  },
  {
   "cell_type": "code",
   "execution_count": 14,
   "metadata": {},
   "outputs": [
    {
     "name": "stdout",
     "output_type": "stream",
     "text": [
      "my_array: [[ 1  2  3  4  5]\n",
      " [ 6  7  8  9 10]] \n",
      "\n",
      "my_array.ndim : 2 \n",
      "\n",
      "my_array.shape: (2, 5) \n",
      "\n",
      "my_array.size: 10 \n",
      "\n",
      "my_array.dtype: int32 \n",
      "\n",
      "my_array.itemsize: 4 \n",
      "\n",
      "my_array.length: 2 \n",
      "\n",
      "my_array.type: <class 'numpy.ndarray'> \n",
      "\n"
     ]
    }
   ],
   "source": [
    "import numpy as np\n",
    "list1 = [[1, 2, 3, 4, 5],[6, 7 ,8 ,9 ,10]]\n",
    "my_array = np.array(list1)\n",
    "x = len(my_array)\n",
    "y = type(my_array)\n",
    "print(\"my_array:\", my_array,\"\\n\")\n",
    "print(\"my_array.ndim :\",my_array.ndim, \"\\n\")\n",
    "print(\"my_array.shape:\",my_array.shape, \"\\n\")\n",
    "print(\"my_array.size:\", my_array.size, \"\\n\")\n",
    "print(\"my_array.dtype:\", my_array.dtype, \"\\n\")\n",
    "print(\"my_array.itemsize:\", my_array.itemsize, \"\\n\")\n",
    "print(\"my_array.length:\", x, \"\\n\")\n",
    "print(\"my_array.type:\",y, \"\\n\")\n"
   ]
  },
  {
   "cell_type": "code",
   "execution_count": null,
   "metadata": {},
   "outputs": [],
   "source": [
    "6.如何利用 list(...) 實現 a.tolist() 的效果？試著用程式實作。"
   ]
  },
  {
   "cell_type": "code",
   "execution_count": 17,
   "metadata": {},
   "outputs": [
    {
     "name": "stdout",
     "output_type": "stream",
     "text": [
      "[[[8, 0, 2], [1, 8, 3]], [[5, 9, 7], [7, 4, 3]], [[6, 1, 3], [8, 9, 1]]]\n",
      "[array([[8, 0, 2],\n",
      "       [1, 8, 3]]), array([[5, 9, 7],\n",
      "       [7, 4, 3]]), array([[6, 1, 3],\n",
      "       [8, 9, 1]])]\n"
     ]
    }
   ],
   "source": [
    "data = np.random.randint(10, size=(3,2,3))\n",
    "\n",
    "print(data.tolist())\n",
    "print(list(data))"
   ]
  },
  {
   "cell_type": "code",
   "execution_count": 18,
   "metadata": {},
   "outputs": [
    {
     "name": "stdout",
     "output_type": "stream",
     "text": [
      "[[7, 2], [9, 5]]\n",
      "[array([7, 2]), array([9, 5])]\n"
     ]
    }
   ],
   "source": [
    "data1 = np.random.randint(10, size=(2,2))\n",
    "\n",
    "print(data1.tolist())\n",
    "print(list(data1))"
   ]
  },
  {
   "cell_type": "code",
   "execution_count": 22,
   "metadata": {},
   "outputs": [
    {
     "name": "stdout",
     "output_type": "stream",
     "text": [
      "[0, 1, 9]\n",
      "[0, 1, 9]\n"
     ]
    }
   ],
   "source": [
    "data2 = np.random.randint(10, size=3)\n",
    "\n",
    "print(data2.tolist())\n",
    "print(list(data2))"
   ]
  }
 ],
 "metadata": {
  "kernelspec": {
   "display_name": "Python 3",
   "language": "python",
   "name": "python3"
  },
  "language_info": {
   "codemirror_mode": {
    "name": "ipython",
    "version": 3
   },
   "file_extension": ".py",
   "mimetype": "text/x-python",
   "name": "python",
   "nbconvert_exporter": "python",
   "pygments_lexer": "ipython3",
   "version": "3.8.5"
  }
 },
 "nbformat": 4,
 "nbformat_minor": 4
}
