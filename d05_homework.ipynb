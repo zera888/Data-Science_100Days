{
 "cells": [
  {
   "cell_type": "code",
   "execution_count": 10,
   "metadata": {},
   "outputs": [
    {
     "name": "stdout",
     "output_type": "stream",
     "text": [
      "英文科的最高分數是: 89 \n",
      "\n",
      "英文科的最低分數是: 48 \n",
      "\n",
      "英文科的標準差是: 14.716204220744787 \n",
      "\n",
      "數學科的最高分數是: 85.0 \n",
      "\n",
      "數學科的最低分數是: 60.0 \n",
      "\n",
      "數學科的標準差是: nan \n",
      "\n",
      "國文科的最高分數是: 90 \n",
      "\n",
      "國文科的最低分數是: 65 \n",
      "\n",
      "國文科的標準差是: 9.66781602362533 \n",
      "\n",
      "數學科第五位同學補考成績是55，重新計算最高分、最低分和標準差如下:\n",
      "\n",
      "數學科的最高分數是: 85.0 \n",
      "\n",
      "數學科的最低分數是: 55.0 \n",
      "\n",
      "數學科的標準差是: 10.801234497346433 \n",
      "\n",
      "數學補考後的成績與國文科相關最高係數的學科是:\n",
      "\n",
      "國文與英文科的相關係數是:\n",
      " [[1.         0.97792828]\n",
      " [0.97792828 1.        ]]\n",
      "\n",
      "國文與數學科的相關係數是:\n",
      " [[1.         0.74056803]\n",
      " [0.74056803 1.        ]]\n",
      "\n"
     ]
    }
   ],
   "source": [
    "import numpy as np\n",
    "import pandas as pd\n",
    "\n",
    "english_score =[55,89,76,65,48,70]\n",
    "math_score = np.array([60,85,60,68,np.nan,60])\n",
    "chinese_score = [65, 90, 82, 72, 66, 77]\n",
    "\n",
    "print('英文科的最高分數是:',max(english_score) , '\\n')\n",
    "print('英文科的最低分數是:',min(english_score) , '\\n')\n",
    "print('英文科的標準差是:',np.std(english_score, ddof = 1) , '\\n')\n",
    "\n",
    "print('數學科的最高分數是:',max(math_score) , '\\n')\n",
    "print('數學科的最低分數是:',min(math_score) , '\\n')\n",
    "print('數學科的標準差是:',np.std(math_score, ddof = 1) , '\\n')\n",
    "\n",
    "print('國文科的最高分數是:',max(chinese_score) , '\\n')\n",
    "print('國文科的最低分數是:',min(chinese_score) , '\\n')\n",
    "print('國文科的標準差是:',np.std(chinese_score, ddof = 1) , '\\n')\n",
    "\n",
    "#第五位同學數學補考成績是55，請計算數學科的最高分、最低分，標準差\n",
    "\n",
    "print('數學科第五位同學補考成績是55，重新計算最高分、最低分和標準差如下:\\n')\n",
    "math_score[4] = 55\n",
    "print('數學科的最高分數是:',max(math_score) , '\\n')\n",
    "print('數學科的最低分數是:',min(math_score) , '\\n')\n",
    "print('數學科的標準差是:',np.std(math_score, ddof = 1) , '\\n')\n",
    "\n",
    "#用補考後成績找出與國文科相關係數最高學科\n",
    "\n",
    "print('數學補考後的成績與國文科相關最高係數的學科是:\\n')\n",
    "\n",
    "A = np.vstack((chinese_score, english_score))\n",
    "B = np.vstack((chinese_score, math_score))\n",
    "\n",
    "print('國文與英文科的相關係數是:\\n', np.corrcoef(A))\n",
    "print()\n",
    "print('國文與數學科的相關係數是:\\n',np.corrcoef(B))\n",
    "print()"
   ]
  }
 ],
 "metadata": {
  "kernelspec": {
   "display_name": "Python 3",
   "language": "python",
   "name": "python3"
  },
  "language_info": {
   "codemirror_mode": {
    "name": "ipython",
    "version": 3
   },
   "file_extension": ".py",
   "mimetype": "text/x-python",
   "name": "python",
   "nbconvert_exporter": "python",
   "pygments_lexer": "ipython3",
   "version": "3.8.5"
  }
 },
 "nbformat": 4,
 "nbformat_minor": 4
}
