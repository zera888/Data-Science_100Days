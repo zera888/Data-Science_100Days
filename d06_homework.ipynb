{
 "cells": [
  {
   "cell_type": "code",
   "execution_count": 3,
   "metadata": {},
   "outputs": [
    {
     "name": "stdout",
     "output_type": "stream",
     "text": [
      "array1的元素如下:\n",
      "\n",
      "[ 0  1  2  3  4  5  6  7  8  9 10 11 12 13 14 15 16 17 18 19 20 21 22 23\n",
      " 24 25 26 27 28 29]\n",
      "\n",
      "array2的元素如下:\n",
      "\n",
      "[2 3 5]\n",
      "\n",
      "將兩個array存成檔案 <module 'io' from 'C:\\\\ProgramData\\\\Anaconda3\\\\lib\\\\io.py'> \n",
      "\n",
      "讀取出含有array1、array2的陣列檔案 <module 'io' from 'C:\\\\ProgramData\\\\Anaconda3\\\\lib\\\\io.py'> 的元素如下:\n",
      "\n",
      "[ 0  1  2  3  4  5  6  7  8  9 10 11 12 13 14 15 16 17 18 19 20 21 22 23\n",
      " 24 25 26 27 28 29]\n",
      "[2 3 5]\n",
      "\n",
      "*******************************************************\n",
      "讀取出包含所有檔案的pnz檔案的的元素如下:\n",
      "\n",
      "[ 0  1  2  3  4  5  6  7  8  9 10 11 12 13 14 15 16 17 18 19 20 21 22 23\n",
      " 24 25 26 27 28 29]\n",
      "\n",
      "[2 3 5]\n",
      "\n",
      "['a,b,c' '1,2,3' '4,5,6' '7,8,9']\n",
      "\n",
      "[1 2]\n",
      "\n",
      "[[0. 1. 2. 3. 4.]\n",
      " [5. 6. 7. 8. 9.]]\n",
      "\n",
      "[1 2]\n"
     ]
    }
   ],
   "source": [
    "import numpy as np\n",
    "import io as f\n",
    "import pandas as pd\n",
    "\n",
    "array1 = np.array(range(30))\n",
    "array2 = np.array([2,3,5])\n",
    "print('array1的元素如下:\\n')\n",
    "print(array1)\n",
    "print()\n",
    "print('array2的元素如下:\\n')\n",
    "print(array2)\n",
    "print()\n",
    "file = 'my_file.npz'\n",
    "np.savez(file, a = array1 , b = array2, delimiter = '\\n')\n",
    "print('將兩個array存成檔案 %s \\n' % (f))\n",
    "f1 = np.load(file)\n",
    "print('讀取出含有array1、array2的陣列檔案 %s 的元素如下:\\n' % (f))\n",
    "print(f1['a'])\n",
    "print(f1['b'])\n",
    "print()\n",
    "print('*******************************************************')\n",
    "\n",
    "name = np.loadtxt('names.txt', dtype='str', encoding='bytes')\n",
    "one_array = np.load('one_array.npy')\n",
    "data = np.genfromtxt('test.csv', delimiter=',')\n",
    "test_pny = np.load('test.npy',)\n",
    "np.savez(file, a = array1 , b = array2, c = name, d = one_array, e = data, f = test_pny, delimiter = '\\n') \n",
    "\n",
    "all = np.load(file)\n",
    "print('讀取出包含所有檔案的pnz檔案的的元素如下:\\n')\n",
    "print(all['a'])\n",
    "print()\n",
    "print(all['b'])\n",
    "print()\n",
    "print(all['c'])\n",
    "print()\n",
    "print(all['d'])\n",
    "print()\n",
    "print(all['e'])\n",
    "print()\n",
    "print(all['f'])\n",
    "\n",
    "# e = np.open('one_array.npy')\n",
    "# print(e)\n"
   ]
  }
 ],
 "metadata": {
  "kernelspec": {
   "display_name": "Python 3",
   "language": "python",
   "name": "python3"
  },
  "language_info": {
   "codemirror_mode": {
    "name": "ipython",
    "version": 3
   },
   "file_extension": ".py",
   "mimetype": "text/x-python",
   "name": "python",
   "nbconvert_exporter": "python",
   "pygments_lexer": "ipython3",
   "version": "3.8.5"
  }
 },
 "nbformat": 4,
 "nbformat_minor": 4
}
