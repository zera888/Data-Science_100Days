{
 "cells": [
  {
   "cell_type": "markdown",
   "metadata": {
    "colab_type": "text",
    "id": "P6xk2_jLsvFF"
   },
   "source": [
    "# [作業目標]\n",
    "\n",
    "1. [簡答題] 請問下列程式碼，運算結果分別為何？\n",
    "\n",
    "```\n",
    "a = np.array( [20,30,40,50] )\n",
    "b = np.array( [1,2,3,4] ) \n",
    "c = 1\n",
    "d = np.array( [1] )\n",
    "e = np.array( [1,2] ) \n",
    "```\n",
    "\n",
    "2. 如何在不用迴圈的情況下計算 (A+B)*(-A/2) ？那用迴圈怎麼做？\n",
    "\n",
    "3. 請問如何計算「1x6 的單位矩陣」和「6x1 的單位矩陣」的內積和外積？"
   ]
  },
  {
   "cell_type": "markdown",
   "metadata": {
    "colab_type": "text",
    "id": "uXGll28asvFS"
   },
   "source": [
    "# 作業 "
   ]
  },
  {
   "cell_type": "markdown",
   "metadata": {},
   "source": [
    "### 1. [簡答題] 請問下列程式碼，運算結果分別為何？\n",
    "\n",
    "```\n",
    "a = np.array( [20,30,40,50] )\n",
    "b = np.array( [1,2,3,4] ) \n",
    "c = 1\n",
    "d = np.array( [1] )\n",
    "e = np.array( [1,2] ) \n",
    "```\n"
   ]
  },
  {
   "cell_type": "code",
   "execution_count": 6,
   "metadata": {
    "colab": {},
    "colab_type": "code",
    "id": "5QrYoyNWsvFS"
   },
   "outputs": [
    {
     "name": "stdout",
     "output_type": "stream",
     "text": [
      "array a= [20 30 40 50] \n",
      "\n",
      "array b= [1 2 3 4] \n",
      "\n",
      "array c= 1 \n",
      "\n",
      "array d= [1] \n",
      "\n",
      "a+a= \n",
      " [ 40  60  80 100] \n",
      "\n",
      "a+b= \n",
      " [21 32 43 54] \n",
      "\n",
      "a+c= \n",
      " [21 31 41 51] \n",
      "\n",
      "a+d= \n",
      " [21 31 41 51] \n",
      "\n",
      "a+e= \n",
      " [[21 32]\n",
      " [41 52]] \n",
      "\n"
     ]
    }
   ],
   "source": [
    "import numpy as np\n",
    "\n",
    "a = np.array( [20,30,40,50] )\n",
    "b = np.array( [1,2,3,4] ) \n",
    "c = 1\n",
    "d = np.array( [1] )\n",
    "e = np.array( [1,2] ) \n",
    "\n",
    "print('array a=',a,'\\n')\n",
    "print('array b=',b,'\\n')\n",
    "print('array c=',c,'\\n')\n",
    "print('array d=',d,'\\n')\n",
    "\n",
    "f= np.reshape(a,(2,2))\n",
    "\n",
    "print('a+a=','\\n',a + a,'\\n')\n",
    "print('a+b=','\\n',a + b,'\\n')\n",
    "print('a+c=','\\n',a + c,'\\n')\n",
    "print('a+d=','\\n',a + d,'\\n')\n",
    "print('a+e=','\\n',f + e,'\\n')"
   ]
  },
  {
   "cell_type": "markdown",
   "metadata": {},
   "source": [
    "### 2. 如何在不用迴圈的情況下計算 (A+B)*(-A/2) ？那用迴圈怎麼做？\n"
   ]
  },
  {
   "cell_type": "code",
   "execution_count": 8,
   "metadata": {},
   "outputs": [
    {
     "name": "stdout",
     "output_type": "stream",
     "text": [
      "Array A= \n",
      " [1. 1. 1.] \n",
      "\n",
      "Array B= \n",
      " [2. 2. 2.] \n",
      "\n",
      "Array (A + B) * (-A / 2)=\n",
      "[-1.5 -1.5 -1.5]\n"
     ]
    }
   ],
   "source": [
    "A = np.ones(3)*1\n",
    "B = np.ones(3)*2\n",
    "\n",
    "print('Array A=','\\n',A,'\\n')\n",
    "print('Array B=','\\n',B,'\\n')\n",
    "print('Array (A + B) * (-A / 2)=')\n",
    "print((A + B) * (-A / 2))"
   ]
  },
  {
   "cell_type": "markdown",
   "metadata": {},
   "source": [
    "### 3. 請問如何計算「1x6 的單位矩陣」和「6x1 的單位矩陣」的內積和外積？\n"
   ]
  },
  {
   "cell_type": "code",
   "execution_count": 2,
   "metadata": {},
   "outputs": [],
   "source": [
    "# 記得先 Import 正確的套件\n",
    "\n",
    "import numpy as np\n"
   ]
  },
  {
   "cell_type": "code",
   "execution_count": 9,
   "metadata": {
    "colab": {},
    "colab_type": "code",
    "id": "e1gVI0tvsvFY"
   },
   "outputs": [
    {
     "name": "stdout",
     "output_type": "stream",
     "text": [
      "Array A= \n",
      " [[1. 1. 1. 1. 1. 1.]] \n",
      "\n",
      "Array B= \n",
      " [[1.]\n",
      " [1.]\n",
      " [1.]\n",
      " [1.]\n",
      " [1.]\n",
      " [1.]] \n",
      "\n",
      "Array A*B= \n",
      " [[1. 1. 1. 1. 1. 1.]\n",
      " [1. 1. 1. 1. 1. 1.]\n",
      " [1. 1. 1. 1. 1. 1.]\n",
      " [1. 1. 1. 1. 1. 1.]\n",
      " [1. 1. 1. 1. 1. 1.]\n",
      " [1. 1. 1. 1. 1. 1.]] \n",
      "\n",
      "Array A@B= \n",
      " [[6.]] \n",
      "\n"
     ]
    }
   ],
   "source": [
    "# 參考解答\n",
    "\n",
    "A = np.ones((1,6))\n",
    "B = np.ones((6,1))\n",
    "\n",
    "print('Array A=','\\n',A,'\\n')\n",
    "print('Array B=','\\n',B,'\\n')\n",
    "\n",
    "print('Array A*B=','\\n',A * B,'\\n')\n",
    "print('Array A@B=','\\n',A @ B,'\\n')"
   ]
  },
  {
   "cell_type": "code",
   "execution_count": null,
   "metadata": {},
   "outputs": [],
   "source": [
    "作業\n",
    "\n",
    "題目:\n",
    "運用投影片中的分貝公式回答下列問題。\n",
    "1.正常的談話的聲壓為20000微巴斯卡，請問多少分貝?\n",
    "2.30分貝的聲壓會是50分貝的幾倍?\n"
   ]
  },
  {
   "cell_type": "code",
   "execution_count": 1,
   "metadata": {},
   "outputs": [
    {
     "data": {
      "text/plain": [
       "60.0"
      ]
     },
     "execution_count": 1,
     "metadata": {},
     "output_type": "execute_result"
    }
   ],
   "source": [
    "import numpy as np \n",
    "#1.正常的談話的聲壓為20000微巴斯卡，請問多少分貝?\n",
    "#60\n",
    "V1 = 20000\n",
    "V0 = 20\n",
    "20*np.log10(V1/V0)"
   ]
  },
  {
   "cell_type": "code",
   "execution_count": 3,
   "metadata": {},
   "outputs": [
    {
     "data": {
      "text/plain": [
       "0.09999999999999999"
      ]
     },
     "execution_count": 3,
     "metadata": {},
     "output_type": "execute_result"
    }
   ],
   "source": [
    "import numpy as np \n",
    "#2.30分貝的聲壓會是50分貝的幾倍?\n",
    "#公式移項過後可以得到 V1 = 10^(GdB/20)*V0\n",
    "#10倍\n",
    "V1_30 = 10**(30/20)*V0\n",
    "V1_50 = 10**(50/20)*V0\n",
    "V1_30/V1_50"
   ]
  }
 ],
 "metadata": {
  "colab": {
   "name": "Day_023_Reduce_Skewness_Ans.ipynb",
   "provenance": []
  },
  "kernelspec": {
   "display_name": "Python 3",
   "language": "python",
   "name": "python3"
  },
  "language_info": {
   "codemirror_mode": {
    "name": "ipython",
    "version": 3
   },
   "file_extension": ".py",
   "mimetype": "text/x-python",
   "name": "python",
   "nbconvert_exporter": "python",
   "pygments_lexer": "ipython3",
   "version": "3.8.5"
  }
 },
 "nbformat": 4,
 "nbformat_minor": 1
}
