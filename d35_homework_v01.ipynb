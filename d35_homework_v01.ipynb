{
 "cells": [
  {
   "cell_type": "markdown",
   "metadata": {},
   "source": [
    "## 作業:\n",
    "今天課程中以一個案例，說明資料分析的流程與探索性分析，是否對於課程中一開始的問題，更有想法了?!    \n",
    "Q1: 哪一個問題不適合用資料科學解決?   \n",
    "Q2: 以你的角度來分析，為什麼這樣的問題，較不適合用資料來解決?    \n",
    "將答案寫在論壇中，大家一起互相討論激盪。   \n",
    "![](作業圖檔.PNG)"
   ]
  },
  {
   "cell_type": "code",
   "execution_count": null,
   "metadata": {},
   "outputs": [],
   "source": [
    "Q1_Answer：無法被量化的、不能用數據分析的資料、訴諸於情緒的、感官的，用情緒做判斷、基於主觀意識去做選擇的資訊，無法用資料科學解決。比如感情的\n",
    "           對象、母親的食物、對於人的感受、對於藝術品的賞析或是對於音樂的喜好等等，都是無法用資料科學作解決的問題。\n",
    "    \n",
    "Q2_Answer：因為：\n",
    "                 1.無法被量化：沒有辦法用數據去評量價值，並且每個人心目中的價值是不同的，例如音樂創作。\n",
    "                 2.無法用同一標準評價：比如食物的喜好，每個人都不一樣，沒有辦法用同一個標準去衡量。\n",
    "                 3.評價因人而異：比如同樣的顏色，有人喜歡，有人討厭，評價的因素都是非常的主觀的。\n",
    "                 4.沒有標準答案：因為是涉及個人喜好與偏愛的，沒有標準答案的事情。\n",
    "                 5.涉及文化因素：沒有好壞，純粹就是因為文化因素。"
   ]
  }
 ],
 "metadata": {
  "colab": {
   "name": "Day33.YOLO 細節理解 - 網路輸出的後處理_HW.ipynb",
   "provenance": []
  },
  "kernelspec": {
   "display_name": "Python 3",
   "language": "python",
   "name": "python3"
  },
  "language_info": {
   "codemirror_mode": {
    "name": "ipython",
    "version": 3
   },
   "file_extension": ".py",
   "mimetype": "text/x-python",
   "name": "python",
   "nbconvert_exporter": "python",
   "pygments_lexer": "ipython3",
   "version": "3.8.5"
  }
 },
 "nbformat": 4,
 "nbformat_minor": 1
}
