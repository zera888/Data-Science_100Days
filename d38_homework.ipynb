{
 "cells": [
  {
   "cell_type": "markdown",
   "metadata": {
    "id": "QaFwqkQyE8GE"
   },
   "source": [
    "## 作業\n",
    "在鐵達尼資料集中，今天我們專注觀察變數之間的相關性，以Titanic_train.csv 中，首先將有遺失值的數值刪除，並回答下列問題。\n",
    "* Q1: 透過數值法計算  Age 和  Survived  是否有相關性?\n",
    "* Q2:透過數值法計算  Sex 和 Survived  是否有相關性?\n",
    "* Q3: 透過數值法計算  Age 和  Fare 是否有相關性?   \n",
    "* 提示:    \n",
    "1.產稱一個新的變數 Survived_cate ，資料型態傳換成類別型態      \n",
    "2.把題目中的 Survived 用 Survived_cate 來做分析       \n",
    "3.首先觀察一下這些變數的資料型態後，再來想要以哪一種判斷倆倆的相關性。     \n"
   ]
  },
  {
   "cell_type": "code",
   "execution_count": 3,
   "metadata": {
    "colab": {
     "base_uri": "https://localhost:8080/",
     "height": 369
    },
    "executionInfo": {
     "elapsed": 2242,
     "status": "error",
     "timestamp": 1601990565808,
     "user": {
      "displayName": "陳家揚",
      "photoUrl": "",
      "userId": "06507357541156510761"
     },
     "user_tz": -480
    },
    "id": "yz28_IgkYdBW",
    "outputId": "c37195aa-ba80-42fd-a703-58827b7ba98c"
   },
   "outputs": [],
   "source": [
    "# import library\n",
    "import matplotlib.pyplot as plt\n",
    "import numpy as np\n",
    "import pandas as pd\n",
    "import math\n",
    "import statistics\n",
    "import seaborn as sns\n",
    "import pingouin as pg\n",
    "import researchpy\n",
    "from scipy import stats\n",
    "from IPython.display import display\n",
    "%matplotlib inline"
   ]
  },
  {
   "cell_type": "markdown",
   "metadata": {
    "id": "M6YWLLdqE8GI"
   },
   "source": [
    "## 讀入資料"
   ]
  },
  {
   "cell_type": "code",
   "execution_count": 34,
   "metadata": {
    "id": "TnU74t6BE8GI",
    "outputId": "e660f13b-1eef-4268-e06e-0599dd2455da"
   },
   "outputs": [
    {
     "name": "stdout",
     "output_type": "stream",
     "text": [
      "          Survived       Sex       Age    Pclass      Fare\n",
      "Survived  1.000000  0.538826 -0.077221 -0.359653  0.268189\n",
      "Sex       0.538826  1.000000 -0.093254 -0.155460  0.184994\n",
      "Age      -0.077221 -0.093254  1.000000 -0.369226  0.096067\n",
      "Pclass   -0.359653 -0.155460 -0.369226  1.000000 -0.554182\n",
      "Fare      0.268189  0.184994  0.096067 -0.554182  1.000000\n"
     ]
    },
    {
     "name": "stderr",
     "output_type": "stream",
     "text": [
      "C:\\Users\\user\\anaconda3\\lib\\site-packages\\pandas\\core\\series.py:4479: SettingWithCopyWarning: \n",
      "A value is trying to be set on a copy of a slice from a DataFrame\n",
      "\n",
      "See the caveats in the documentation: https://pandas.pydata.org/pandas-docs/stable/user_guide/indexing.html#returning-a-view-versus-a-copy\n",
      "  return super().replace(\n",
      "<ipython-input-34-c5a48414f49c>:25: SettingWithCopyWarning: \n",
      "A value is trying to be set on a copy of a slice from a DataFrame\n",
      "\n",
      "See the caveats in the documentation: https://pandas.pydata.org/pandas-docs/stable/user_guide/indexing.html#returning-a-view-versus-a-copy\n",
      "  df1.dropna(inplace=True)\n"
     ]
    }
   ],
   "source": [
    "\n",
    "# import library\n",
    "import matplotlib.pyplot as plt\n",
    "import numpy as np\n",
    "import pandas as pd\n",
    "import math\n",
    "import statistics\n",
    "import seaborn as sns\n",
    "import pingouin as pg\n",
    "import researchpy\n",
    "from scipy import stats\n",
    "from IPython.display import display\n",
    "\n",
    "%matplotlib inline\n",
    "\n",
    "#讀入資料\n",
    "df = pd.read_csv(\"Titanic_train.csv\")\n",
    "\n",
    "#產生新的一組資料型態\n",
    "df1=df[['Survived','Sex','Age','Pclass','Fare']]\n",
    "# Using inplace to change the origin data\n",
    "df1[\"Sex\"].replace(\"male\", 0, inplace = True) # 將\"male\"換成數值0 \n",
    "df1[\"Sex\"].replace(\"female\", 1, inplace = True) # 將\"female\"換成數值1\n",
    "\n",
    "# 刪除有遺失值的列\n",
    "df1.dropna(inplace=True)\n",
    "\n",
    "## 這邊我們做一個調整，把 Survived 變成離散型變數 Survived_cate\n",
    "Survived_cate=df1.corr()\n",
    "print(Survived_cate)"
   ]
  },
  {
   "cell_type": "markdown",
   "metadata": {
    "id": "YN-BISG4E8GM"
   },
   "source": [
    "###  Q1: 透過數值法計算  Age 和  Survived  是否有相關性?\n"
   ]
  },
  {
   "cell_type": "code",
   "execution_count": 29,
   "metadata": {},
   "outputs": [
    {
     "name": "stdout",
     "output_type": "stream",
     "text": [
      "-0.17901531293692402\n"
     ]
    },
    {
     "data": {
      "image/png": "[encoded data removed]",
      "text/plain": [
       "<Figure size 432x288 with 1 Axes>"
      ]
     },
     "metadata": {
      "needs_background": "light"
     },
     "output_type": "display_data"
    }
   ],
   "source": [
    "# 由於 pearsonr 有兩個回傳結果，我們只需取第一個回傳值為相關係數\n",
    "corr, _=stats.pearsonr(Survived_cate['Survived'], Survived_cate['Age'])\n",
    "print(corr)\n",
    "#代表年齡和生存率不具有高度線性相關\n",
    "\n",
    "g = sns.regplot(x=\"Age\", y=\"Survived\", color=\"g\",data=Survived_cate)\n",
    "#年齡和生存率關係不大"
   ]
  },
  {
   "cell_type": "markdown",
   "metadata": {
    "id": "8dlu8RnNE8GN"
   },
   "source": [
    "### Q2:透過數值法計算  Sex 和 Survived  是否有相關性?\n"
   ]
  },
  {
   "cell_type": "code",
   "execution_count": 30,
   "metadata": {},
   "outputs": [
    {
     "name": "stdout",
     "output_type": "stream",
     "text": [
      "0.7784441135190632\n"
     ]
    },
    {
     "data": {
      "image/png": "[encoded data removed]",
      "text/plain": [
       "<Figure size 432x288 with 1 Axes>"
      ]
     },
     "metadata": {
      "needs_background": "light"
     },
     "output_type": "display_data"
    }
   ],
   "source": [
    "# 由於 pearsonr 有兩個回傳結果，我們只需取第一個回傳值為相關係數\n",
    "corr, _=stats.pearsonr(Survived_cate['Survived'], Survived_cate['Sex'])\n",
    "print(corr)\n",
    "#代表性別和生存率具有線性相關\n",
    "\n",
    "g = sns.regplot(x=\"Sex\", y=\"Survived\", color=\"g\",data=Survived_cate)\n",
    "#年齡和性別生存率關係大，因為當時女性與小孩優先的策略，造成女性和小孩的生存率比較高"
   ]
  },
  {
   "cell_type": "markdown",
   "metadata": {
    "id": "6SxLGI6sE8GN"
   },
   "source": [
    "### Q3: 透過數值法計算  Age 和  Fare 是否有相關性?  "
   ]
  },
  {
   "cell_type": "code",
   "execution_count": 33,
   "metadata": {},
   "outputs": [
    {
     "name": "stdout",
     "output_type": "stream",
     "text": [
      "0.2139110580489052\n"
     ]
    },
    {
     "data": {
      "image/png": "[encoded data removed]",
      "text/plain": [
       "<Figure size 432x288 with 1 Axes>"
      ]
     },
     "metadata": {
      "needs_background": "light"
     },
     "output_type": "display_data"
    }
   ],
   "source": [
    "# 由於 pearsonr 有兩個回傳結果，我們只需取第一個回傳值為相關係數\n",
    "corr, _=stats.pearsonr(Survived_cate['Age'], Survived_cate['Fare'])\n",
    "print(corr)\n",
    "#代表年齡和費用的線性關係並不顯著\n",
    "\n",
    "g = sns.regplot(x=\"Age\", y=\"Fare\", color=\"g\",data=Survived_cate)\n",
    "#年齡和費用之間的關聯性並不大"
   ]
  }
 ],
 "metadata": {
  "colab": {
   "name": "作業.ipynb",
   "provenance": []
  },
  "kernelspec": {
   "display_name": "Python 3",
   "language": "python",
   "name": "python3"
  },
  "language_info": {
   "codemirror_mode": {
    "name": "ipython",
    "version": 3
   },
   "file_extension": ".py",
   "mimetype": "text/x-python",
   "name": "python",
   "nbconvert_exporter": "python",
   "pygments_lexer": "ipython3",
   "version": "3.8.5"
  }
 },
 "nbformat": 4,
 "nbformat_minor": 1
}
