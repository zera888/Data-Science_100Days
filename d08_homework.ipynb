{
 "cells": [
  {
   "cell_type": "code",
   "execution_count": 39,
   "metadata": {},
   "outputs": [
    {
     "name": "stdout",
     "output_type": "stream",
     "text": [
      "[['小明' 'boy' 67.5 8 True]\n",
      " ['小華' 'boy' 75.3 1 True]\n",
      " ['小菁' 'girl' 50.1 5 False]\n",
      " ['小美' 'girl' 45.5 4 False]\n",
      " ['小張' 'boy' 80.8 7 True]\n",
      " ['John' 'boy' 90.4 6 True]\n",
      " ['Mark' 'boy' 78.4 2 False]\n",
      " ['Tom' 'boy' 70.7 3 False]]\n",
      "\n",
      "計算出全部平均體重 : 69.8375 kg \n",
      "\n",
      "男孩們的全部平均體重 : 77.18333333333332 kg \n",
      "\n",
      "女孩們的全部平均體重 : 47.8 kg \n",
      "\n"
     ]
    }
   ],
   "source": [
    "import numpy as np\n",
    "import pandas as pd\n",
    "\n",
    "data = {'name' : ['小明','小華','小菁','小美','小張','John','Mark','Tom'],\n",
    "        'gender': ['boy','boy','girl','girl','boy','boy','boy','boy'],\n",
    "        'weight': [67.5,75.3,50.1,45.5,80.8,90.4,78.4,70.7],\n",
    "        'rank': [8,1,5,4,7,6,2,3],\n",
    "        'myopia': [True,True,False,False,True,True,False,False]}\n",
    "\n",
    "#1. 將上列list依照['name', 'gender', 'weight', 'rank', 'myopia']順序擺入array，並且資料型態順序擺入[Unicode,Unicode,float,int,boolean]\n",
    "\n",
    "myframe = pd.DataFrame(data)\n",
    "person = np.array(myframe)\n",
    "print(person)\n",
    "print()\n",
    "\n",
    "#2. 呈上題，將array中體重(weight)數據集取出算出全部平均體重\n",
    "\n",
    "print('計算出全部平均體重 :', np.mean(a),'kg', '\\n')\n",
    "a = np.array(person[:,2])\n",
    "\n",
    "#3. 呈上題，進一步算出男生(gender欄位是boy)平均體重\n",
    "b=n=0 \n",
    "for i in range(8):\n",
    "    if format(person[i,1]) =='boy':\n",
    "        b += person[i,2]\n",
    "        n += 1\n",
    "b1 = b/n\n",
    "print('男孩們的全部平均體重 :', b1,'kg', '\\n')\n",
    "\n",
    "#4. 呈上題，進一步算出女生(gender欄位是girl)平均體重\n",
    "g=m=0 \n",
    "for j in range(8):\n",
    "    if format(person[j,1]) =='girl':\n",
    "        g += person[j,2]\n",
    "        m += 1\n",
    "g1 = g/m\n",
    "print('女孩們的全部平均體重 :', g1,'kg', '\\n')\n"
   ]
  }
 ],
 "metadata": {
  "kernelspec": {
   "display_name": "Python 3",
   "language": "python",
   "name": "python3"
  },
  "language_info": {
   "codemirror_mode": {
    "name": "ipython",
    "version": 3
   },
   "file_extension": ".py",
   "mimetype": "text/x-python",
   "name": "python",
   "nbconvert_exporter": "python",
   "pygments_lexer": "ipython3",
   "version": "3.8.5"
  }
 },
 "nbformat": 4,
 "nbformat_minor": 4
}
