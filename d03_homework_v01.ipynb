{
 "cells": [
  {
   "cell_type": "markdown",
   "metadata": {
    "colab_type": "text",
    "id": "P6xk2_jLsvFF"
   },
   "source": [
    "# [作業目標]\n",
    "\n",
    "1. [簡答題] 請比較 np.zeros 和 np.empty 產生出來的陣列有何差異？為什麼要設計兩種方法？\n",
    "\n",
    "```\n",
    "print(np.zeros((2, 3)))\n",
    "print(np.empty((2, 3)))\n",
    "```\n",
    "\n",
    "2. 在不用「整數亂數方法」的限制下，如何將包含小數的轉換整數？請將給定的 a 陣列當中的元素變成去掉小數變成整數。\n",
    "3. 承上題，怎樣可以限制整數的範圍介於 m - n 之間？請將給定的 a 陣列當中的元素的範圍調整成 m - n 之間。"
   ]
  },
  {
   "cell_type": "markdown",
   "metadata": {
    "colab_type": "text",
    "id": "uXGll28asvFS"
   },
   "source": [
    "# 作業 "
   ]
  },
  {
   "cell_type": "markdown",
   "metadata": {},
   "source": [
    "### 1. [簡答題] 請比較 np.zeros 和 np.empty 產生出來的陣列有何差異？為什麼要設計兩種方法？\n",
    "\n",
    "```\n",
    "print(np.zeros((2, 3)))\n",
    "print(np.empty((2, 3)))\n",
    "```\n"
   ]
  },
  {
   "cell_type": "code",
   "execution_count": 2,
   "metadata": {
    "colab": {},
    "colab_type": "code",
    "id": "5QrYoyNWsvFS",
    "scrolled": true
   },
   "outputs": [
    {
     "name": "stdout",
     "output_type": "stream",
     "text": [
      "np.zeros(2,3)\n",
      "[[0. 0. 0.]\n",
      " [0. 0. 0.]]\n",
      "\n",
      "np.empty(2.3)\n",
      "[[0. 0. 0.]\n",
      " [0. 0. 0.]]\n"
     ]
    }
   ],
   "source": [
    "import numpy as np\n",
    "import pandas as pd\n",
    "\n",
    "print('np.zeros(2,3)')\n",
    "print(np.zeros((2, 3)))\n",
    "print()\n",
    "print('np.empty(2.3)')\n",
    "print(np.empty((2, 3)))"
   ]
  },
  {
   "cell_type": "code",
   "execution_count": null,
   "metadata": {},
   "outputs": [],
   "source": [
    "Answer ： np.zeros的內容是全部為0的陣列。 np.empty的內容是全部都初始化的陣列。"
   ]
  },
  {
   "cell_type": "markdown",
   "metadata": {},
   "source": [
    "### 2. 在不用「整數亂數方法」的限制下，如何將包含小數的轉換整數？請將給定的 a 陣列當中的元素變成去掉小數變成整數。\n"
   ]
  },
  {
   "cell_type": "code",
   "execution_count": 11,
   "metadata": {},
   "outputs": [
    {
     "name": "stdout",
     "output_type": "stream",
     "text": [
      "a.standard_normal((2,3))\n",
      "[[-0.31000219 -0.42780152  0.24677031]\n",
      " [ 0.17821005 -1.00215842  0.02615545]]\n",
      "\n",
      "a.random((2,3))\n",
      "[[0.26757538 0.53915712 0.12704488]\n",
      " [0.9762342  0.8878732  0.1410333 ]]\n",
      "\n",
      "a.integers(0, 10, size=(2,3))\n",
      "[[7 9 2]\n",
      " [4 3 8]]\n"
     ]
    }
   ],
   "source": [
    "# 記得先 Import 正確的套件\n",
    "import numpy as np\n",
    "from numpy.random import default_rng\n",
    "\n",
    "a = default_rng()\n",
    "\n",
    "A = a.standard_normal((2,3))\n",
    "R = a.random((2,3))\n",
    "I = a.integers(0, 10, size=(2,3))\n",
    "\n",
    "print('a.standard_normal((2,3))')\n",
    "print(A)\n",
    "print()\n",
    "print('a.random((2,3))')\n",
    "print(R)\n",
    "print()\n",
    "print('a.integers(0, 10, size=(2,3))')\n",
    "print(I)"
   ]
  },
  {
   "cell_type": "code",
   "execution_count": 4,
   "metadata": {
    "colab": {},
    "colab_type": "code",
    "id": "e1gVI0tvsvFY"
   },
   "outputs": [
    {
     "name": "stdout",
     "output_type": "stream",
     "text": [
      "[[26.59948885 47.53904807 54.11469174]\n",
      " [70.68669942  6.86886691  4.57672874]]\n",
      "[[27. 48. 54.]\n",
      " [71.  7.  5.]]\n",
      "[[27. 48. 54.]\n",
      " [71.  7.  5.]]\n"
     ]
    }
   ],
   "source": [
    "# 參考解答\n",
    "\n",
    "a = np.random.rand(2, 3)\n",
    "\n",
    "'''\n",
    "Your Code\n",
    "'''"
   ]
  },
  {
   "cell_type": "markdown",
   "metadata": {},
   "source": [
    "### 3. 承上題，怎樣可以限制整數的範圍介於 m - n 之間？請將給定的 a 陣列當中的元素的範圍調整成 m - n 之間。\n"
   ]
  },
  {
   "cell_type": "code",
   "execution_count": 15,
   "metadata": {},
   "outputs": [
    {
     "name": "stdout",
     "output_type": "stream",
     "text": [
      "[[2. 2. 2.]\n",
      " [2. 2. 2.]\n",
      " [2. 2. 2.]]\n"
     ]
    }
   ],
   "source": [
    "import numpy as np\n",
    "\n",
    "m = 2\n",
    "n = 8\n",
    "a = np.random.rand(3, 3)\n",
    "c = np.clip(a, m, n)\n",
    "print(c)"
   ]
  },
  {
   "cell_type": "code",
   "execution_count": null,
   "metadata": {},
   "outputs": [],
   "source": [
    "作業目標\n",
    "在一個陣列中放入多屬性陣列，進一步對陣列做運算\n",
    "作業重點\n",
    "在建立結構化陣列前需要先設定屬性，在做運算時須注意資料屬性\n",
    "\n",
    "題目:\n",
    "name_list = ['小明','小華','小菁','小美','小張','John','Mark','Tom']\n",
    "sex_list = ['boy','boy','girl','girl','boy','boy','boy','boy']\n",
    "weight_list = [67.5,75.3,50.1,45.5,80.8,90.4,78.4,70.7]\n",
    "rank_list = [8,1,5,4,7,6,2,3]\n",
    "myopia_list = [True,True,False,False,True,True,False,False]\n",
    "\n",
    "    將上列list依照['name', 'sex', 'weight', 'rank', 'myopia']順序擺入array，並且資料型態順序擺入[Unicode,Unicode,float,int,boolean]\n",
    "    呈上題，將array中體重(weight)數據集取出算出全部平均體重\n",
    "    呈上題，進一步算出男生(sex欄位是boy)平均體重、女生(sex欄位是girl)平均體重\n",
    "\n"
   ]
  },
  {
   "cell_type": "code",
   "execution_count": 17,
   "metadata": {},
   "outputs": [],
   "source": [
    "import numpy as np\n",
    "\n",
    "name = ['小明','小華','小菁','小美','小張','John','Mark','Tom']\n",
    "sex = ['boy','boy','girl','girl','boy','boy','boy','boy']\n",
    "weight = [67.5,75.3,50.1,45.5,80.8,90.4,78.4,70.7]\n",
    "rank = [8,1,5,4,7,6,2,3]\n",
    "myopia = [True,True,False,False,True,True,False,False]"
   ]
  },
  {
   "cell_type": "code",
   "execution_count": 33,
   "metadata": {},
   "outputs": [
    {
     "name": "stdout",
     "output_type": "stream",
     "text": [
      "[('小明', 'boy', 67.5, 8,  True) ('小華', 'boy', 75.3, 1,  True)\n",
      " ('小菁', 'girl', 50.1, 5, False) ('小美', 'girl', 45.5, 4, False)\n",
      " ('小張', 'boy', 80.8, 7,  True) ('John', 'boy', 90.4, 6,  True)\n",
      " ('Mark', 'boy', 78.4, 2, False) ('Tom', 'boy', 70.7, 3, False)]\n",
      "\n",
      "平均體重為： 69.8375\n"
     ]
    }
   ],
   "source": [
    "#將list中的資訊整理成陣列\n",
    "dt = np.dtype({'names':('name', 'sex', 'weight', 'rank', 'myopia'),\n",
    "               'formats':('U8', 'U8', float, int, bool)})\n",
    "data = np.zeros(8, dtype = dt)\n",
    "data['name'] = name\n",
    "data['sex'] = sex\n",
    "data['weight'] = weight\n",
    "data['rank'] = rank\n",
    "data['myopia'] = myopia\n",
    "\n",
    "print(data)\n",
    "print()\n",
    "print('平均體重為：',data['weight'].mean())"
   ]
  },
  {
   "cell_type": "code",
   "execution_count": 46,
   "metadata": {},
   "outputs": [
    {
     "name": "stdout",
     "output_type": "stream",
     "text": [
      "All boys weight : [67.5 75.3 80.8 90.4 78.4 70.7]\n",
      "\n",
      "All girls weight: [50.1 45.5]\n",
      "\n",
      "boys_mean_weight =  77.18333333333332\n",
      "\n",
      "girls_mean_weight =  47.8\n",
      "\n"
     ]
    }
   ],
   "source": [
    "boy_w = data[ data['sex'] == 'boy' ]['weight'] #取陣列data[weight]內容為boy\n",
    "print('All boys weight :', boy_w)\n",
    "print()\n",
    "girl_w = data[ data['sex'] == 'girl' ]['weight']  #取陣列data[weight]內容為girl\n",
    "print('All girls weight:',girl_w)\n",
    "print()\n",
    "boy_mean_weight = np.mean (boy_w, dtype=np.float64)\n",
    "print('boys_mean_weight = ', boy_mean_weight)\n",
    "print()\n",
    "girl_mean_weight = np.mean (girl_w, dtype=np.float64)\n",
    "print('girls_mean_weight = ', girl_mean_weight)\n",
    "print()"
   ]
  },
  {
   "cell_type": "code",
   "execution_count": null,
   "metadata": {},
   "outputs": [],
   "source": []
  }
 ],
 "metadata": {
  "colab": {
   "name": "Day_023_HW.ipynb",
   "provenance": []
  },
  "kernelspec": {
   "display_name": "Python 3",
   "language": "python",
   "name": "python3"
  },
  "language_info": {
   "codemirror_mode": {
    "name": "ipython",
    "version": 3
   },
   "file_extension": ".py",
   "mimetype": "text/x-python",
   "name": "python",
   "nbconvert_exporter": "python",
   "pygments_lexer": "ipython3",
   "version": "3.8.5"
  }
 },
 "nbformat": 4,
 "nbformat_minor": 1
}
