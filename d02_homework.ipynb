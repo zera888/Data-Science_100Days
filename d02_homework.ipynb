{
 "cells": [
  {
   "cell_type": "code",
   "execution_count": 18,
   "metadata": {},
   "outputs": [
    {
     "name": "stdout",
     "output_type": "stream",
     "text": [
      "列出從1-30組合的5*6距陣:\n",
      "[[ 1  2  3  4  5  6]\n",
      " [ 7  8  9 10 11 12]\n",
      " [13 14 15 16 17 18]\n",
      " [19 20 21 22 23 24]\n",
      " [25 26 27 28 29 30]]\n",
      "\n",
      "列出所有被6除，餘數為1的索引\n",
      "[ 7 13 19 25]\n"
     ]
    }
   ],
   "source": [
    "import numpy as np\n",
    "print(\"列出從1-30組合的5*6距陣:\")\n",
    "na = np.arange(1, 31).reshape(5,6)\n",
    "print(na)\n",
    "print()\n",
    "print(\"列出所有被6除，餘數為1的索引\")\n",
    "print(na[1:5,0])"
   ]
  }
 ],
 "metadata": {
  "kernelspec": {
   "display_name": "Python 3",
   "language": "python",
   "name": "python3"
  },
  "language_info": {
   "codemirror_mode": {
    "name": "ipython",
    "version": 3
   },
   "file_extension": ".py",
   "mimetype": "text/x-python",
   "name": "python",
   "nbconvert_exporter": "python",
   "pygments_lexer": "ipython3",
   "version": "3.8.5"
  }
 },
 "nbformat": 4,
 "nbformat_minor": 4
}
