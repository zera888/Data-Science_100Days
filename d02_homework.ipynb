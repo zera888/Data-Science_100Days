{
 "cells": [
  {
   "cell_type": "markdown",
   "metadata": {
    "id": "P6xk2_jLsvFF"
   },
   "source": [
    "# [作業目標]\n",
    "\n",
    "1. [簡答題] 請問 type(...) 跟 a.dtype 這兩個語法有什麼不同？\n",
    "\n",
    "```\n",
    "print('type(a): ', type(a))\n",
    "print('a.dtype: ', a.dtype)\n",
    "```\n",
    "\n",
    "2. 請撰寫一個判斷 a 的元素是否等於指定資料型態的函式\n",
    "\n",
    "3. [簡答題] 承上題，請判斷下列三種寫法為何不正確？\n",
    "\n",
    "```\n",
    "def is_dtype(a, t):\n",
    "    return a.dtype is t\n",
    "\n",
    "def is_dtype(a, t):\n",
    "    return type(a) == np.dtype(t)\n",
    "\n",
    "def is_dtype(a, t):\n",
    "    return type(a) is np.dtype(t)\n",
    "```"
   ]
  },
  {
   "cell_type": "markdown",
   "metadata": {
    "id": "uXGll28asvFS"
   },
   "source": [
    "# 作業 "
   ]
  },
  {
   "cell_type": "markdown",
   "metadata": {
    "id": "qmOwRRtHNgfI"
   },
   "source": [
    "### 1. [簡答題] 請問 type(...) 跟 a.dtype 這兩個語法有什麼不同？\n",
    "\n",
    "```\n",
    "print('type(a): ', type(a))\n",
    "print('a.dtype: ', a.dtype)\n",
    "```\n"
   ]
  },
  {
   "cell_type": "code",
   "execution_count": 2,
   "metadata": {
    "id": "5QrYoyNWsvFS",
    "outputId": "8977bda1-0e79-4faa-8370-76a2b0767482",
    "scrolled": true
   },
   "outputs": [
    {
     "name": "stdout",
     "output_type": "stream",
     "text": [
      "type(data):  <class 'numpy.ndarray'> \n",
      "\n",
      "data.dtype:  int32 \n",
      "\n"
     ]
    }
   ],
   "source": [
    "import numpy as np\n",
    "\n",
    "data= np.random.randint(10,size=3)\n",
    "\n",
    "print('type(data): ', type(data), \"\\n\")\n",
    "print('data.dtype: ', data.dtype, \"\\n\")"
   ]
  },
  {
   "cell_type": "code",
   "execution_count": null,
   "metadata": {},
   "outputs": [],
   "source": [
    "type是將名為data的array的資料型態回傳，例如data是一個陣列型態。dtype則是資料的屬性，例如data內容存放的資料是一個int32的資料屬性。"
   ]
  },
  {
   "cell_type": "markdown",
   "metadata": {
    "id": "hgsGyqXHNgfK"
   },
   "source": [
    "### 2. 請撰寫一個判斷 a 的元素是否等於指定資料型態的函式，並且通過測試。\n",
    "\n"
   ]
  },
  {
   "cell_type": "code",
   "execution_count": 4,
   "metadata": {
    "id": "e1gVI0tvsvFY"
   },
   "outputs": [
    {
     "name": "stdout",
     "output_type": "stream",
     "text": [
      "True\n",
      "True\n",
      "True\n"
     ]
    }
   ],
   "source": [
    "import numpy as np\n",
    " \n",
    "def is_dtype(a, t):\n",
    "    return a.dtype is np.dtype(t)\n",
    "\n",
    "a = np.random.randint(10, size=8) \n",
    "\n",
    "\n",
    "print(is_dtype(a, 'int')) \n",
    "\n",
    "print(is_dtype(a, np.int)) \n",
    "\n",
    "print(is_dtype(a, np.dtype('int'))) \n"
   ]
  },
  {
   "cell_type": "markdown",
   "metadata": {
    "id": "iM6o3Ra1NgfM"
   },
   "source": [
    "### 3. [簡答題] 承上題，請判斷下列三種寫法為何不正確？\n",
    "\n",
    "```\n",
    "def is_dtype(a, t):\n",
    "    return a.dtype is t\n",
    "\n",
    "def is_dtype(a, t):\n",
    "    return type(a) == np.dtype(t)\n",
    "\n",
    "def is_dtype(a, t):\n",
    "    return type(a) is np.dtype(t)\n",
    "```"
   ]
  },
  {
   "cell_type": "code",
   "execution_count": 5,
   "metadata": {
    "id": "INXaaXTuNgfM",
    "scrolled": true
   },
   "outputs": [
    {
     "name": "stdout",
     "output_type": "stream",
     "text": [
      "False\n",
      "False\n",
      "True\n"
     ]
    }
   ],
   "source": [
    "import numpy as np\n",
    " \n",
    "def is_dtype(a, t):\n",
    "    return a.dtype is t\n",
    "\n",
    "a = np.random.randint(10, size=8) \n",
    "\n",
    "\n",
    "print(is_dtype(a, 'int')) \n",
    "\n",
    "print(is_dtype(a, np.int)) \n",
    "\n",
    "print(is_dtype(a, np.dtype('int'))) \n"
   ]
  },
  {
   "cell_type": "code",
   "execution_count": null,
   "metadata": {},
   "outputs": [],
   "source": [
    "Answer: 因為t並沒有定義是屬於何種資料屬性和型態，並且沒有定義t的值是多少?"
   ]
  },
  {
   "cell_type": "code",
   "execution_count": 6,
   "metadata": {
    "id": "WH1UuVJCNgfN"
   },
   "outputs": [
    {
     "name": "stdout",
     "output_type": "stream",
     "text": [
      "False\n",
      "False\n",
      "False\n"
     ]
    }
   ],
   "source": [
    "import numpy as np\n",
    " \n",
    "def is_dtype(a, t):\n",
    "    return type(a) == np.dtype(t)\n",
    "\n",
    "a = np.random.randint(10, size=8) \n",
    "\n",
    "\n",
    "print(is_dtype(a, 'int')) \n",
    "\n",
    "print(is_dtype(a, np.int)) \n",
    "\n",
    "print(is_dtype(a, np.dtype('int'))) \n"
   ]
  },
  {
   "cell_type": "code",
   "execution_count": null,
   "metadata": {},
   "outputs": [],
   "source": [
    "Answer： np.dtype(t)的意思是把array的第t個存放位置的資料屬性(例如int32)回傳，但是t並沒有被定義，回傳給type(a)也有問題。\n",
    "         因為type(a)指的是a的資料型態(例如array)，回傳資料屬性給資料存放的型態有問題的。"
   ]
  },
  {
   "cell_type": "code",
   "execution_count": 7,
   "metadata": {
    "id": "XOPQVru2NgfN"
   },
   "outputs": [
    {
     "name": "stdout",
     "output_type": "stream",
     "text": [
      "False\n",
      "False\n",
      "False\n"
     ]
    }
   ],
   "source": [
    "import numpy as np\n",
    " \n",
    "def is_dtype(a, t):\n",
    "    return type(a) is np.dtype(t)\n",
    "\n",
    "a = np.random.randint(10, size=8) \n",
    "\n",
    "\n",
    "print(is_dtype(a, 'int')) \n",
    "\n",
    "print(is_dtype(a, np.int)) \n",
    "\n",
    "print(is_dtype(a, np.dtype('int'))) \n"
   ]
  },
  {
   "cell_type": "code",
   "execution_count": null,
   "metadata": {},
   "outputs": [],
   "source": [
    "Answer：和上面的問題一樣，np.dtype(t)回傳的是一個數值的屬性(如本題的size=8，資料屬性是int32),但是dtype(a)講的是資料要存放在什麼樣的型態中。\n",
    "        在def設定的是array的第t個位置的存放數值要存放到a這個array中，就有點格式不符，人家問的是門牌號碼，回答的是社區大樓的名稱。"
   ]
  }
 ],
 "metadata": {
  "colab": {
   "name": "02 Homework.ipynb",
   "provenance": []
  },
  "kernelspec": {
   "display_name": "Python 3",
   "language": "python",
   "name": "python3"
  },
  "language_info": {
   "codemirror_mode": {
    "name": "ipython",
    "version": 3
   },
   "file_extension": ".py",
   "mimetype": "text/x-python",
   "name": "python",
   "nbconvert_exporter": "python",
   "pygments_lexer": "ipython3",
   "version": "3.8.5"
  }
 },
 "nbformat": 4,
 "nbformat_minor": 1
}
